{
  "nbformat": 4,
  "nbformat_minor": 0,
  "metadata": {
    "colab": {
      "provenance": [],
      "authorship_tag": "ABX9TyOR4S8xIYursAR+ddrUQSgj",
      "include_colab_link": true
    },
    "kernelspec": {
      "name": "python3",
      "display_name": "Python 3"
    },
    "language_info": {
      "name": "python"
    }
  },
  "cells": [
    {
      "cell_type": "markdown",
      "metadata": {
        "id": "view-in-github",
        "colab_type": "text"
      },
      "source": [
        "<a href=\"https://colab.research.google.com/github/sanAkel/ocean-hurricane/blob/main/animate_satellite_data_hurr_track.ipynb\" target=\"_parent\"><img src=\"https://colab.research.google.com/assets/colab-badge.svg\" alt=\"Open In Colab\"/></a>"
      ]
    },
    {
      "cell_type": "markdown",
      "source": [
        "## Install modules"
      ],
      "metadata": {
        "id": "4YhqdFzkOCCu"
      }
    },
    {
      "cell_type": "code",
      "execution_count": null,
      "metadata": {
        "collapsed": true,
        "id": "W18cQAiSOAkw"
      },
      "outputs": [],
      "source": [
        "!pip install tropycal\n",
        "!pip install copernicusmarine\n",
        "!pip install cartopy"
      ]
    },
    {
      "cell_type": "code",
      "source": [
        "import copernicusmarine\n",
        "from tropycal import tracks\n",
        "import xarray as xr\n",
        "import numpy as np\n",
        "import pandas as pd\n",
        "\n",
        "from PIL import Image\n",
        "import glob as glob\n",
        "\n",
        "import matplotlib.pyplot as plt\n",
        "import matplotlib.ticker as mticker\n",
        "import cartopy.crs as ccrs\n",
        "#import cartopy.feature as cfeature\n",
        "from cartopy.mpl.gridliner import LONGITUDE_FORMATTER, LATITUDE_FORMATTER\n",
        "\n",
        "#%matplotlib inline"
      ],
      "metadata": {
        "id": "oxgswCGkPMal"
      },
      "execution_count": null,
      "outputs": []
    },
    {
      "cell_type": "code",
      "source": [
        " def get_cmems_data(dsetID, vNames, lon_start, lon_end, lat_start, lat_end, time_start, time_end):\n",
        "\n",
        "  data_request = {\"dataset_id\" : dsetID,\n",
        "    \"longitude\" : [lon_start, lon_end],\n",
        "    \"latitude\" : [lat_start, lat_end],\n",
        "    \"time\" : [time_start, time_end],\n",
        "    \"variables\" : vNames}\n",
        "\n",
        "  cms_data =copernicusmarine.open_dataset(\n",
        "    dataset_id = data_request[\"dataset_id\"],\n",
        "    minimum_longitude = data_request[\"longitude\"][0],\n",
        "    maximum_longitude = data_request[\"longitude\"][1],\n",
        "    minimum_latitude = data_request[\"latitude\"][0],\n",
        "    maximum_latitude = data_request[\"latitude\"][1],\n",
        "    start_datetime = data_request[\"time\"][0],\n",
        "    end_datetime = data_request[\"time\"][1],\n",
        "    variables = data_request[\"variables\"])\n",
        "\n",
        "  return cms_data"
      ],
      "metadata": {
        "id": "icW7KgOAtibT"
      },
      "execution_count": null,
      "outputs": []
    },
    {
      "cell_type": "code",
      "source": [
        "# Look into this alternative:\n",
        "# https://stackoverflow.com/questions/78639092/how-to-animation-with-xarray-dataset-and-cartopy-projection-with-a-colorbar\n",
        "\n",
        "def plot_l4_hurrTrack(dataArr, vName, hurr, xMin, xMax, yMin, yMax, vMin, vMax, cMap, width=8, height=6, DPI=120, track_color='k'):\n",
        "\n",
        "  nTime=len(dataArr.time)\n",
        "  for iTime in range(nTime):\n",
        "\n",
        "    fig = plt.figure(figsize=(width,height), dpi=DPI)\n",
        "\n",
        "    ax = plt.axes(projection=ccrs.PlateCarree())\n",
        "    ax.coastlines()\n",
        "    ax.set_extent([xMin, xMax, yMin, yMax], crs=ccrs.PlateCarree())\n",
        "\n",
        "    gl = ax.gridlines(draw_labels=True)\n",
        "    gl.top_labels = False\n",
        "    gl.right_labels = False\n",
        "\n",
        "    date1 = dataArr.time[iTime].values\n",
        "    yyyymmdd = date1.astype('str').split('T')[0]\n",
        "    hh = date1.astype('str').split('T')[1].split(':')[0]\n",
        "    title_str = yyyymmdd+'T'+hh\n",
        "\n",
        "    dataArr.isel(time=iTime).plot(ax=ax, vmin=vMin, vmax=vMax, cmap=cMap,\n",
        "                                  cbar_kwargs={'pad':0.01, 'shrink':0.75})\n",
        "    # Overlay hurricane when it went by\n",
        "    if date1 >= hurr.time[0].values and date1 <= hurr.time[-1].values:\n",
        "      ax.scatter(hurr.sel(time=slice(hurr.time[0], date1)).lon,\\\n",
        "            hurr.sel(time=slice(hurr.time[0], date1)).lat,\\\n",
        "            s=hurr.sel(time=slice(hurr.time[0], date1)).vmax/5., marker='x', c=track_color, transform=ccrs.PlateCarree())\n",
        "\n",
        "    ax.set_title(title_str, fontsize=14)\n",
        "    figName = 'l4_'+vName+'_'+title_str+'.png'\n",
        "    plt.savefig(figName)\n",
        "    plt.close('all')"
      ],
      "metadata": {
        "id": "Umzf2S9CEm0A"
      },
      "execution_count": null,
      "outputs": []
    },
    {
      "cell_type": "code",
      "source": [
        "# make a gif animation from png files\n",
        "def make_gif_from_pngs(data_path, fPref, png_files, fSuff='.gif', DUR=1000, LOOP=0):\n",
        "  images = []\n",
        "  for filename in png_files:\n",
        "    im = Image.open(filename)\n",
        "    images.append(im)\n",
        "\n",
        "  # save as a gif\n",
        "  fOut = data_path+fPref + fSuff\n",
        "  images[0].save(fOut,save_all=True,\n",
        "               append_images=images[0:],\n",
        "               optimize=False,\n",
        "               duration=DUR, # Duration in milliseconds\n",
        "               loop=LOOP) # infinite loop\n",
        "  print('\\nSaved:\\t{}\\n'.format(fOut))"
      ],
      "metadata": {
        "id": "-JuhpRtbPML0"
      },
      "execution_count": null,
      "outputs": []
    },
    {
      "cell_type": "markdown",
      "source": [
        "## User Inputs"
      ],
      "metadata": {
        "id": "BWZBKeaYO1jZ"
      }
    },
    {
      "cell_type": "code",
      "source": [
        "# Basin and year\n",
        "myBasin = 'north_atlantic'\n",
        "year = 2024\n",
        "hurr_name = \"Milton\"\n",
        "time_delta = 5 # days before/after storm\n",
        "dLon, dLat = [5, 5] # plot extra data outside track bounds (in degrees)"
      ],
      "metadata": {
        "id": "5p-3sg7sOQiY"
      },
      "execution_count": null,
      "outputs": []
    },
    {
      "cell_type": "markdown",
      "source": [
        "### Dataset specific info (may change with dataset, you need to fill it in _carefully_ by looking up [CMEMS](https://data.marine.copernicus.eu/products))\n"
      ],
      "metadata": {
        "id": "MywWYI7ZvdaS"
      }
    },
    {
      "cell_type": "code",
      "source": [
        "# AVISO L4 SSH\n",
        "def aviso_l4_ssh(year):\n",
        "\n",
        "  if year < 2022:\n",
        "    dsetID = \"c3s_obs-sl_glo_phy-ssh_my_twosat-l4-duacs-0.25deg_P1D\"\n",
        "    vNames = [\"adt\", \"sla\", \"err_sla\", \"ugos\", \"vgos\"]\n",
        "  else:\n",
        "    dsetID = \"cmems_obs-sl_glo_phy-ssh_nrt_allsat-l4-duacs-0.25deg_P1D\"\n",
        "    vNames = [\"adt\", \"sla\", \"err_sla\", \"ugos\", \"vgos\"]\n",
        "\n",
        "  return dsetID, vNames\n",
        "\n",
        "# CMEMS dataset IDs\n",
        "dsetID_sst = 'METOFFICE-GLO-SST-L4-NRT-OBS-SST-V2' # OSTIA SST\n",
        "vNames_sst = ['analysed_sst']\n",
        "\n",
        "dsetID_sss='cmems_obs-mob_glo_phy-sss_nrt_multi_P1D' # CNR SSS NRT product\n",
        "vNames_sss=['sos', 'dos']"
      ],
      "metadata": {
        "id": "8hQLnUYEvxnI"
      },
      "execution_count": null,
      "outputs": []
    },
    {
      "cell_type": "markdown",
      "source": [
        "## Download hurricane track data"
      ],
      "metadata": {
        "id": "crA3mEtCSGho"
      }
    },
    {
      "cell_type": "code",
      "source": [
        "basin = tracks.TrackDataset(basin=myBasin, source='hurdat', include_btk=True, interpolate_data=True)\n",
        "hurr=basin.get_storm((hurr_name, year))\n",
        "track_file = str(year)+'_'+hurr_name+'.nc'\n",
        "hurr.to_xarray().to_netcdf(track_file)\n",
        "print(\"\\nSaved track info for {}, {} to:\\n{}\".format(hurr_name, year, track_file))"
      ],
      "metadata": {
        "id": "sUJTVs22QLLy"
      },
      "execution_count": null,
      "outputs": []
    },
    {
      "cell_type": "code",
      "source": [
        "# Hurricane formation and dissipation dates (yyyymmdd)\n",
        "print(\"Hurricane: {},\\t year: {}\".format(hurr_name, year))\n",
        "print(\"Formed on: {},\\t dissipated on: {}\".\n",
        "format(hurr.time[0].strftime('%Y-%m-%d'), hurr.time[-1].strftime('%Y-%m-%d')))\n",
        "\n",
        "t0 = hurr.time[0] - pd.Timedelta(days=time_delta)\n",
        "t1 = hurr.time[-1] + pd.Timedelta(days=time_delta)\n",
        "\n",
        "print(\"\\nDownloading satellite data between following dates:\")\n",
        "print(t0.strftime('%Y-%m-%d'), \"to\", t1.strftime('%Y-%m-%d'))"
      ],
      "metadata": {
        "id": "2-YOpi3HSo6M"
      },
      "execution_count": null,
      "outputs": []
    },
    {
      "cell_type": "markdown",
      "source": [
        "## Get daily datasets of SSH, SST, SSS (satellite data products)"
      ],
      "metadata": {
        "id": "UrQfsHQ9wj0Y"
      }
    },
    {
      "cell_type": "code",
      "source": [
        "# set credentials\n",
        "copernicusmarine.login(username=\"sakella\", password=\"HbFPyP9M\")"
      ],
      "metadata": {
        "id": "PBGserI1TTYx"
      },
      "execution_count": null,
      "outputs": []
    },
    {
      "cell_type": "markdown",
      "source": [
        "### Data from AVISO (SSH, SLA, error in SLA, Geostrophic currents)"
      ],
      "metadata": {
        "id": "TGiD-ys4WWOS"
      }
    },
    {
      "cell_type": "code",
      "source": [
        "l4_ssh = get_cmems_data(*aviso_l4_ssh(year),\n",
        "                        hurr.lon.min()-dLon, hurr.lon.max()+dLon,\n",
        "                        hurr.lat.min()-dLat, hurr.lat.max()+dLat,\n",
        "                        t0.strftime('%Y-%m-%d'), t1.strftime('%Y-%m-%d'))\n",
        "\n",
        "# add geostrophic currents to the dataset- eases our life!\n",
        "l4_ssh['surf_curr'] = xr.DataArray(np.sqrt(l4_ssh.ugos**2 + l4_ssh.vgos**2), coords=l4_ssh.ugos.coords, dims=l4_ssh.ugos.dims)"
      ],
      "metadata": {
        "id": "7EHbJkUjtDjt"
      },
      "execution_count": null,
      "outputs": []
    },
    {
      "cell_type": "markdown",
      "source": [
        "## Data from OSTIA: SST"
      ],
      "metadata": {
        "id": "hjKCTbR5jT-H"
      }
    },
    {
      "cell_type": "code",
      "source": [
        "l4_sst = get_cmems_data(dsetID_sst, vNames_sst,\n",
        "                        hurr.lon.min()-dLon, hurr.lon.max()+dLon,\n",
        "                        hurr.lat.min()-dLat, hurr.lat.max()+dLat,\n",
        "                        t0.strftime('%Y-%m-%d'), t1.strftime('%Y-%m-%d'))"
      ],
      "metadata": {
        "id": "9iRCh1GJjSsH"
      },
      "execution_count": null,
      "outputs": []
    },
    {
      "cell_type": "markdown",
      "source": [
        "## Data from CNR (merged SMAP+SMOS): SSS"
      ],
      "metadata": {
        "id": "2i9yEAQZoBdF"
      }
    },
    {
      "cell_type": "code",
      "source": [
        "l4_sss = get_cmems_data(dsetID_sss, vNames_sss,\n",
        "                        hurr.lon.min()-dLon, hurr.lon.max()+dLon,\n",
        "                        hurr.lat.min()-dLat, hurr.lat.max()+dLat,\n",
        "                        t0.strftime('%Y-%m-%d'), t1.strftime('%Y-%m-%d'))"
      ],
      "metadata": {
        "id": "8DwdfE71oFli"
      },
      "execution_count": null,
      "outputs": []
    },
    {
      "cell_type": "markdown",
      "source": [
        "### Plot AVISO SLA and geostrophic currents"
      ],
      "metadata": {
        "id": "qAwffrfkXX4E"
      }
    },
    {
      "cell_type": "code",
      "source": [
        "vName = 'sla'\n",
        "vMin, vMax, cMap = [-0.5, 0.5, 'RdBu_r']\n",
        "xMin, xMax= [hurr.lon.min()-dLon, hurr.lon.max()+dLon]\n",
        "yMin, yMax= [hurr.lat.min()-dLat, hurr.lat.max()+dLat]\n",
        "\n",
        "plot_l4_hurrTrack(l4_ssh[vName], vName, xr.open_dataset(track_file), xMin, xMax, yMin, yMax, vMin, vMax, cMap)\n",
        "\n",
        "# make a gif animation and delete png files\n",
        "png_files_path, png_fPref = ['/content/',\n",
        "                             hurr_name+'_'+str(year)+'_'+'l4_'+vName]\n",
        "fNames = sorted( glob.glob( png_files_path + 'l4_'+vName +'*.png'))\n",
        "#print(fNames)\n",
        "make_gif_from_pngs(png_files_path, png_fPref, fNames)\n",
        "!rm -f /content/l4_sla*.png\n",
        "# ---\n",
        "\n",
        "vName = 'surf_curr'\n",
        "vMin, vMax, cMap = [0, 1, 'Blues']\n",
        "xMin, xMax= [hurr.lon.min()-dLon, hurr.lon.max()+dLon]\n",
        "yMin, yMax= [hurr.lat.min()-dLat, hurr.lat.max()+dLat]\n",
        "\n",
        "plot_l4_hurrTrack(l4_ssh[vName], vName, xr.open_dataset(track_file), xMin, xMax, yMin, yMax, vMin, vMax, cMap)\n",
        "\n",
        "# make a gif animation and delete png files\n",
        "png_files_path, png_fPref = ['/content/',\n",
        "                             hurr_name+'_'+str(year)+'_'+'l4_'+vName]\n",
        "fNames = sorted( glob.glob( png_files_path + 'l4_'+vName+'*.png'))\n",
        "#print(fNames)\n",
        "make_gif_from_pngs(png_files_path, png_fPref, fNames)\n",
        "!rm -f /content/l4_surf_curr*.png"
      ],
      "metadata": {
        "id": "1wiP42qKxx_A"
      },
      "execution_count": null,
      "outputs": []
    },
    {
      "cell_type": "markdown",
      "source": [
        "## Plot OSTIA SST"
      ],
      "metadata": {
        "id": "LvSPfSlHkTXz"
      }
    },
    {
      "cell_type": "code",
      "source": [
        "vName = 'analysed_sst'\n",
        "vMin, vMax, cMap = [298., 308., 'gist_ncar']\n",
        "xMin, xMax= [hurr.lon.min()-dLon, hurr.lon.max()+dLon]\n",
        "yMin, yMax= [hurr.lat.min()-dLat, hurr.lat.max()+dLat]\n",
        "\n",
        "plot_l4_hurrTrack(l4_sst[vName], vName, xr.open_dataset(track_file), xMin, xMax, yMin, yMax, vMin, vMax, cMap)\n",
        "\n",
        "# make a gif animation and delete png files\n",
        "png_files_path, png_fPref = ['/content/',\n",
        "                             hurr_name+'_'+str(year)+'_'+'l4_'+vName]\n",
        "fNames = sorted( glob.glob( png_files_path + 'l4_'+vName+'*.png'))\n",
        "#print(fNames)\n",
        "make_gif_from_pngs(png_files_path, png_fPref, fNames)\n",
        "!rm -f /content/l4_analysed_sst*.png"
      ],
      "metadata": {
        "id": "NcV7TLllkUzQ"
      },
      "execution_count": null,
      "outputs": []
    },
    {
      "cell_type": "markdown",
      "source": [
        "## Plot CNR SSS and surface density"
      ],
      "metadata": {
        "id": "zyfNxkQupwOl"
      }
    },
    {
      "cell_type": "code",
      "source": [
        "vName = 'sos'\n",
        "vMin, vMax, cMap = [33., 38., 'twilight_shifted']\n",
        "xMin, xMax= [hurr.lon.min()-dLon, hurr.lon.max()+dLon]\n",
        "yMin, yMax= [hurr.lat.min()-dLat, hurr.lat.max()+dLat]\n",
        "\n",
        "plot_l4_hurrTrack(l4_sss[vName], vName, xr.open_dataset(track_file), xMin, xMax, yMin, yMax, vMin, vMax, cMap)\n",
        "\n",
        "# make a gif animation and delete png files\n",
        "png_files_path, png_fPref = ['/content/',\n",
        "                             hurr_name+'_'+str(year)+'_'+'l4_'+vName]\n",
        "fNames = sorted( glob.glob( png_files_path + 'l4_'+vName+'*.png'))\n",
        "#print(fNames)\n",
        "make_gif_from_pngs(png_files_path, png_fPref, fNames)\n",
        "!rm -f /content/l4_sos*.png\n",
        "# --\n",
        "\n",
        "vName = 'dos'\n",
        "vMin, vMax, cMap = [1020., 1024., 'twilight_shifted']\n",
        "xMin, xMax= [hurr.lon.min()-dLon, hurr.lon.max()+dLon]\n",
        "yMin, yMax= [hurr.lat.min()-dLat, hurr.lat.max()+dLat]\n",
        "\n",
        "plot_l4_hurrTrack(l4_sss[vName], vName, xr.open_dataset(track_file), xMin, xMax, yMin, yMax, vMin, vMax, cMap)\n",
        "\n",
        "# make a gif animation and delete png files\n",
        "png_files_path, png_fPref = ['/content/',\n",
        "                             hurr_name+'_'+str(year)+'_'+'l4_'+vName]\n",
        "fNames = sorted( glob.glob( png_files_path + 'l4_'+vName+'*.png'))\n",
        "#print(fNames)\n",
        "make_gif_from_pngs(png_files_path, png_fPref, fNames)\n",
        "!rm -f /content/l4_dos*.png"
      ],
      "metadata": {
        "id": "_EzFytV6pyCI"
      },
      "execution_count": null,
      "outputs": []
    }
  ]
}