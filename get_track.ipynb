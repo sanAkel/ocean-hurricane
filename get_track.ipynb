{
  "nbformat": 4,
  "nbformat_minor": 0,
  "metadata": {
    "colab": {
      "provenance": [],
      "authorship_tag": "ABX9TyPnRTmfHIDKaO51t8BSn5lJ",
      "include_colab_link": true
    },
    "kernelspec": {
      "name": "python3",
      "display_name": "Python 3"
    },
    "language_info": {
      "name": "python"
    }
  },
  "cells": [
    {
      "cell_type": "markdown",
      "metadata": {
        "id": "view-in-github",
        "colab_type": "text"
      },
      "source": [
        "<a href=\"https://colab.research.google.com/github/sanAkel/ssh_tc/blob/main/get_track.ipynb\" target=\"_parent\"><img src=\"https://colab.research.google.com/assets/colab-badge.svg\" alt=\"Open In Colab\"/></a>"
      ]
    },
    {
      "cell_type": "markdown",
      "source": [
        "# To download track (trajectory) data"
      ],
      "metadata": {
        "id": "Owc6o4npapDK"
      }
    },
    {
      "cell_type": "markdown",
      "source": [
        "## Set up environment.\n",
        "\n",
        "## Track data comes from [tropycal](https://tropycal.github.io/tropycal/install.html)."
      ],
      "metadata": {
        "id": "MgZEjV1JYsIm"
      }
    },
    {
      "cell_type": "code",
      "source": [
        "!pip install tropycal\n",
        "!pip install cartopy"
      ],
      "metadata": {
        "id": "wDGgQBxjYusr"
      },
      "execution_count": null,
      "outputs": []
    },
    {
      "cell_type": "code",
      "source": [
        "from tropycal import tracks, rain\n",
        "import xarray as xr"
      ],
      "metadata": {
        "id": "vWrr_30yZ4nh"
      },
      "execution_count": null,
      "outputs": []
    },
    {
      "cell_type": "code",
      "source": [
        "# Basin and year\n",
        "myBasin = 'north_atlantic'\n",
        "year = 2024\n",
        "cat_threshold = 4"
      ],
      "metadata": {
        "id": "luqF39EofpfV"
      },
      "execution_count": null,
      "outputs": []
    },
    {
      "cell_type": "code",
      "source": [
        "# Initialize\n",
        "# https://tropycal.github.io/tropycal/api/generated/tropycal.tracks.TrackDataset.html#tropycal.tracks.TrackDataset\n",
        "\n",
        "basin = tracks.TrackDataset(basin=myBasin, source='hurdat', include_btk=True) # include most recent season\n",
        "season = basin.get_season(year)\n",
        "print(season)"
      ],
      "metadata": {
        "id": "6PZ_SG7qZJDx"
      },
      "execution_count": null,
      "outputs": []
    },
    {
      "cell_type": "code",
      "source": [
        "season.plot(map_prop={'figsize':(10,6),'linewidth':0.5, 'state_alpha':0.5})\n",
        "plt.savefig('hurdat2_{}_{}.png'.format(myBasin, year))"
      ],
      "metadata": {
        "id": "6IWI3fPzZyok"
      },
      "execution_count": null,
      "outputs": []
    },
    {
      "cell_type": "code",
      "source": [
        "# save data\n",
        "season_data=season.to_dataframe()\n",
        "season_data.to_csv('hurdat2_{}_{}.csv'.format(myBasin, year))"
      ],
      "metadata": {
        "id": "MijdMTdba_gm"
      },
      "execution_count": null,
      "outputs": []
    },
    {
      "cell_type": "markdown",
      "source": [
        "### Focus on _major_ (category >=4) storms only"
      ],
      "metadata": {
        "id": "7CtPj10hgPC6"
      }
    },
    {
      "cell_type": "code",
      "source": [
        "major_hurr_names = season_data['name'][season_data['category'] >=cat_threshold]\n",
        "major_hurr_ids = season_data['id'][season_data['category'] >=cat_threshold]\n",
        "\n",
        "print(\"\\n\\nStorms that had a category >= {} are following:\\n\".format(cat_threshold))\n",
        "for hurr in major_hurr_names:\n",
        "    print(hurr)"
      ],
      "metadata": {
        "id": "tsW3reAaea7R"
      },
      "execution_count": null,
      "outputs": []
    },
    {
      "cell_type": "markdown",
      "source": [
        "## Plot those chosen ones"
      ],
      "metadata": {
        "id": "aNh-DFCuiIfe"
      }
    },
    {
      "cell_type": "code",
      "source": [
        "myTitle = 'North Atlantic basin category >= {}'.format(cat_threshold)\n",
        "\n",
        "basin.plot_storms(major_hurr_ids,\n",
        "                  domain=myBasin,\n",
        "                  title=myTitle,\n",
        "                  plot_all_dots=True,\n",
        "                  map_prop={'figsize':(10,6), 'land_color':'w', 'state_alpha':0},\n",
        "                  prop={'dots':False,'linecolor':'category','linewidth':1,'plot_names':True, 'ms':'6', 'dpi':'120'})\n",
        "\n",
        "plt.savefig('hurdat2_{}_{}_major.png'.format(myBasin, year))"
      ],
      "metadata": {
        "id": "jpPZ5MdHt0t4"
      },
      "execution_count": null,
      "outputs": []
    },
    {
      "cell_type": "code",
      "source": [
        "# save storm data\n",
        "for idx, hurr_id in enumerate(major_hurr_ids):\n",
        "    print(\"Saving:\\t{}, [{}]\".format(major_hurr_names.iloc[idx], hurr_id))\n",
        "    fName = str(year) + \"_\" + myBasin + \"_\" + major_hurr_names.iloc[idx] + '.nc'\n",
        "    basin.get_storm(hurr_id).to_xarray().to_netcdf(fName)"
      ],
      "metadata": {
        "id": "_9ZPOhH5yPO0"
      },
      "execution_count": null,
      "outputs": []
    },
    {
      "cell_type": "markdown",
      "source": [
        "## Move saved files for further analysis"
      ],
      "metadata": {
        "id": "86llxl6X1SXl"
      }
    },
    {
      "cell_type": "code",
      "source": [
        "!ls -al *.nc"
      ],
      "metadata": {
        "id": "7btdW5zly9-i"
      },
      "execution_count": null,
      "outputs": []
    },
    {
      "cell_type": "code",
      "source": [
        "# Mount drive - to save files once done\n",
        "from google.colab import drive\n",
        "drive.mount('/content/drive')"
      ],
      "metadata": {
        "id": "hLRhNBWXzEGM"
      },
      "execution_count": null,
      "outputs": []
    },
    {
      "cell_type": "code",
      "source": [
        "loc_to_save = '/content/drive/MyDrive/datasets/hurr/{}'.format(year)\n",
        "\n",
        "!mkdir -p $loc_to_save\n",
        "\n",
        "!cp -r /content/*.csv $loc_to_save\n",
        "\n",
        "!cp -r /content/*.nc $loc_to_save\n",
        "\n",
        "!cp -r /content/*.png $loc_to_save\n",
        "\n",
        "# clean up!\n",
        "!rm -f /content/*.nc\n",
        "!rm -f /content/*.csv\n",
        "!rm -f /content/*.png"
      ],
      "metadata": {
        "id": "JQvVUqH31qfl"
      },
      "execution_count": null,
      "outputs": []
    }
  ]
}