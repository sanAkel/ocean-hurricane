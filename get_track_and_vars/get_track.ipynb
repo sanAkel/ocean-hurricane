{
 "cells": [
  {
   "cell_type": "code",
   "execution_count": null,
   "id": "26359fe2-9289-4cba-a7c9-ae2d058c6039",
   "metadata": {},
   "outputs": [],
   "source": [
    "import numpy as np\n",
    "import xarray as xr\n",
    "\n",
    "import cartopy.crs as ccrs\n",
    "import cartopy.feature as cfeature\n",
    "\n",
    "import matplotlib.pyplot as plt\n",
    "\n",
    "%matplotlib inline\n",
    "\n",
    "# To avoid warning messages\n",
    "import warnings\n",
    "warnings.filterwarnings('ignore')\n",
    "\n",
    "# https://tropycal.github.io/tropycal/examples/tracks.storm.html\n",
    "from tropycal import tracks, rain"
   ]
  },
  {
   "cell_type": "markdown",
   "id": "fd73daaa-a231-43eb-b2ae-0963d27028e8",
   "metadata": {},
   "source": [
    "# User inputs"
   ]
  },
  {
   "cell_type": "code",
   "execution_count": null,
   "id": "19775bb6-47a2-45e9-a7df-bd2f9e0d4538",
   "metadata": {},
   "outputs": [],
   "source": [
    "basin = 'north_atlantic'\n",
    "year = 2023\n",
    "tc_name = 'franklin'"
   ]
  },
  {
   "cell_type": "code",
   "execution_count": null,
   "id": "6230c0fe-d3a1-4cd8-a7a5-1eb654ab9dab",
   "metadata": {},
   "outputs": [],
   "source": [
    "# Initialize\n",
    "# https://tropycal.github.io/tropycal/api/generated/tropycal.tracks.TrackDataset.html#tropycal.tracks.TrackDataset\n",
    "\n",
    "basin = tracks.TrackDataset(basin=basin, source='hurdat')#,include_btk=False) # exclude most recent season"
   ]
  },
  {
   "cell_type": "markdown",
   "id": "d98189c1-c26b-43d0-8d17-360d09686b94",
   "metadata": {},
   "source": [
    "# Print summary of chosen year or season "
   ]
  },
  {
   "cell_type": "code",
   "execution_count": null,
   "id": "b62e818f-8e53-4222-8cfa-d4808a3e1440",
   "metadata": {},
   "outputs": [],
   "source": [
    "season = basin.get_season(year)\n",
    "print(season)"
   ]
  },
  {
   "cell_type": "markdown",
   "id": "8710b2eb-4eba-40fc-b9ee-01b860122e42",
   "metadata": {},
   "source": [
    "# Plot season"
   ]
  },
  {
   "cell_type": "code",
   "execution_count": null,
   "id": "5711751b-f7a1-42ff-811e-a8059017fe10",
   "metadata": {},
   "outputs": [],
   "source": [
    "season.plot(map_prop={'figsize':(12,8),'linewidth':0.5, 'state_alpha':0.5})"
   ]
  },
  {
   "cell_type": "markdown",
   "id": "191415da-6ae3-4b97-8152-1e7d1bf597fa",
   "metadata": {},
   "source": [
    "# Check if the requested hurricane name exists in the read season "
   ]
  },
  {
   "cell_type": "code",
   "execution_count": null,
   "id": "b1acbbf5-9f0f-428d-84b5-da2390a40687",
   "metadata": {},
   "outputs": [],
   "source": [
    "seas_summary = season.summary()"
   ]
  },
  {
   "cell_type": "code",
   "execution_count": null,
   "id": "69e1e7fe-7ffc-4082-9a06-5c92ed1b7684",
   "metadata": {},
   "outputs": [],
   "source": [
    "storm_exists = True\n",
    "hurr_cat = True\n",
    "fName_save = tc_name + '_' + str(year) + '.nc'\n",
    "\n",
    "if not tc_name.upper() in seas_summary['name']:\n",
    "    print('\\nInput storm name was not found in database.\\nCheck if the storm by that name exists and try again.\\n')\n",
    "    storm_exists = False\n",
    "\n",
    "if storm_exists:\n",
    "    myStorm = basin.get_storm((tc_name, year))\n",
    "\n",
    "    # Did it attain hurricane status?\n",
    "    if len(myStorm.mslp[myStorm.type=='HU']) <= 0:\n",
    "        print('\\n{} was never categorized as a hurricane.'.format(tc_name))\n",
    "        hurr_cat = False\n",
    "        \n",
    "if storm_exists and hurr_cat:\n",
    "    storm_data = myStorm.to_xarray()\n",
    "    storm_data.to_netcdf(fName_save)\n",
    "    print('\\nData was saved to:\\t{}'.format(fName_save))\n",
    "    print('\\nAll Done.')"
   ]
  },
  {
   "cell_type": "markdown",
   "id": "6aea79cd-816d-4112-bfd6-befcf3c7220d",
   "metadata": {},
   "source": [
    "# To-do:\n",
    "From summary extract `names` of storms with `category >= 1`.\n",
    "(Those storms attainted category `type` == \"HU\", we will ignore the rest.)"
   ]
  },
  {
   "cell_type": "code",
   "execution_count": null,
   "id": "946afdb0-af00-456d-8285-f18c7a6654f4",
   "metadata": {},
   "outputs": [],
   "source": []
  }
 ],
 "metadata": {
  "kernelspec": {
   "display_name": "Python [conda env:xesmf_env] *",
   "language": "python",
   "name": "conda-env-xesmf_env-py"
  },
  "language_info": {
   "codemirror_mode": {
    "name": "ipython",
    "version": 3
   },
   "file_extension": ".py",
   "mimetype": "text/x-python",
   "name": "python",
   "nbconvert_exporter": "python",
   "pygments_lexer": "ipython3",
   "version": "3.11.7"
  }
 },
 "nbformat": 4,
 "nbformat_minor": 5
}
