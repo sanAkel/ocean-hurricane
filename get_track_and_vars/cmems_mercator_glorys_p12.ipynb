{
 "cells": [
  {
   "cell_type": "markdown",
   "id": "639ac838-f245-4a05-bed3-c3fc0edccc4d",
   "metadata": {},
   "source": [
    "# Download data from [Mercator 1/12-deg reanalysis](https://data.marine.copernicus.eu/product/GLOBAL_ANALYSISFORECAST_PHY_001_024/description)"
   ]
  },
  {
   "cell_type": "code",
   "execution_count": null,
   "id": "0c10b0ee-31e5-4400-b488-b3408b634f5f",
   "metadata": {},
   "outputs": [],
   "source": [
    "import copernicusmarine\n",
    "\n",
    "import numpy as np\n",
    "import xarray as xr\n",
    "import pandas as pd\n",
    "\n",
    "import cartopy.crs as ccrs\n",
    "import cartopy.feature as cfeature\n",
    "\n",
    "import glob as glob\n",
    "\n",
    "import matplotlib.pyplot as plt\n",
    "%matplotlib inline\n",
    "\n",
    "import warnings\n",
    "warnings.filterwarnings(\"ignore\")"
   ]
  },
  {
   "cell_type": "markdown",
   "id": "265a38b2-ee36-4ecd-aa18-32eab0c31124",
   "metadata": {},
   "source": [
    "# User inputs\n",
    "## To- do: parse following user inputs, including which ocean datasets to read"
   ]
  },
  {
   "cell_type": "code",
   "execution_count": null,
   "id": "fe01c937-5498-4689-b2b3-5e0b5a4e5776",
   "metadata": {},
   "outputs": [],
   "source": [
    "# days before/after storm passage\n",
    "nDays = 30\n",
    "\n",
    "# storm info\n",
    "data_path_tc = '/Users/sakella/10june2024/intern-summer2024/get_track_and_vars/saved_data/' # path to saved data\n",
    "year = 2023 # year\n",
    "tc_name = 'franklin' # name of tropical cyclone (TC)"
   ]
  },
  {
   "cell_type": "code",
   "execution_count": null,
   "id": "06dddff7-f189-49ad-b91e-9139d1a2f6f6",
   "metadata": {},
   "outputs": [],
   "source": [
    "# Copernicus marine dataset\n",
    "# https://catalogue.marine.copernicus.eu/documents/PUM/CMEMS-GLO-PUM-001-024.pdf\n",
    "# ----\n",
    "# Which ocean dataset to read?\n",
    "# Hourly mean surface (2d) fields: cmems_mod_glo_phy_anfc_0.083deg_PT1H-m\n",
    "# Instantaneous (inst) 6-hourly 3d potential temperature: cmems_mod_glo_phy-thetao_anfc_0.083deg_PT6H-i\n",
    "# inst 6hr 3d salinity: cmems_mod_glo_phy-so_anfc_0.083deg_PT6H-i\n",
    "# inst 6hr 3d currents: cmems_mod_glo_phy-cur_anfc_0.083deg_PT6H-i\n",
    "# ----\n",
    "\n",
    "# Set parameters\n",
    "data_request = {\n",
    "    \"dataset_id\" : \"cmems_mod_glo_phy_anfc_0.083deg_PT1H-m\", \n",
    "    \"longitude\" : [-180, 180], \n",
    "    \"latitude\" : [-80, 90],\n",
    "    \"variables\" : [\"thetao\", \"so\", \"uo\", \"vo\", \"zos\"] # changes based on dataset_id\n",
    "}"
   ]
  },
  {
   "cell_type": "markdown",
   "id": "27d6ff02-94a3-4bf6-8eec-ce7c5aba7947",
   "metadata": {},
   "source": [
    "# Gather datasets:"
   ]
  },
  {
   "cell_type": "markdown",
   "id": "650056ea-e8cd-4c49-ace7-c9900c7a80c7",
   "metadata": {},
   "source": [
    "## Storm dataset that was already prepared [using this notebook.](https://github.com/sanAkel/intern-summer2024/blob/main/get_track_and_vars/get_track.ipynb)"
   ]
  },
  {
   "cell_type": "code",
   "execution_count": null,
   "id": "24dcaee0-6e0f-4549-ba11-ae38ae22805b",
   "metadata": {},
   "outputs": [],
   "source": [
    "tc_data = xr.open_dataset(data_path_tc + tc_name + '_' + str(year) + '.nc')"
   ]
  },
  {
   "cell_type": "markdown",
   "id": "cca53daa-d948-428b-be50-d30c62b38a39",
   "metadata": {},
   "source": [
    "## Load ocean reanalysis dataset (surface fields)."
   ]
  },
  {
   "cell_type": "code",
   "execution_count": null,
   "id": "30e4dc76-080b-4869-92a2-92879b275858",
   "metadata": {},
   "outputs": [],
   "source": [
    "glo12_hrly_sfc=copernicusmarine.open_dataset(\n",
    "    dataset_id = data_request[\"dataset_id\"],\n",
    "    minimum_longitude = data_request[\"longitude\"][0],\n",
    "    maximum_longitude = data_request[\"longitude\"][1],\n",
    "    minimum_latitude = data_request[\"latitude\"][0],\n",
    "    maximum_latitude = data_request[\"latitude\"][1],\n",
    "    variables = data_request[\"variables\"]\n",
    ")"
   ]
  },
  {
   "cell_type": "markdown",
   "id": "bc399477-ab48-4577-97e5-1b8b9de8c70a",
   "metadata": {},
   "source": [
    "## Subset data along path of the tropical cyclone (Lagrangian sampling)"
   ]
  },
  {
   "cell_type": "code",
   "execution_count": null,
   "id": "3fbb50cf-9bba-4be9-8578-9f469a9e40d7",
   "metadata": {},
   "outputs": [],
   "source": [
    "for tk in range(0, len(tc_data.time)):\n",
    "    xk = tc_data.isel(time=tk)['lon'].values\n",
    "    yk = tc_data.isel(time=tk)['lat'].values\n",
    "    Tk = tc_data.isel(time=tk)['time'].values\n",
    "    ds_subset = glo12_hrly_sfc.isel(depth=0).sel(time=Tk,longitude=xk,latitude=yk, method='nearest')\n",
    "\n",
    "    # Save each of the subset files and concatenate later\n",
    "    timeStr = tc_data.time.dt.strftime(\"%Y%m%d_%H%M\").values[tk]\n",
    "    fName_save = data_path_tc + tc_name + '_' + str(year) + '_' +\\\n",
    "                 data_request['dataset_id'] + '_' + timeStr + '.nc'\n",
    "    ds_subset.to_netcdf(fName_save)\n",
    "    print(\"Saved data for:\\t{}; lon, lat=[{}, {}]\".format(timeStr, xk, yk))"
   ]
  },
  {
   "cell_type": "code",
   "execution_count": null,
   "id": "dc2126f3-fc77-48d5-9fed-0758eff7d8d3",
   "metadata": {},
   "outputs": [],
   "source": [
    "dss = xr.open_mfdataset(\"saved_data/franklin_2023_cmems_mod_glo_phy_anfc_0.083deg_PT1H-m_*.nc\", combine='nested', concat_dim=\"time\")"
   ]
  },
  {
   "cell_type": "code",
   "execution_count": null,
   "id": "40e0a9c8-66e8-4726-90ee-2f9a21cbad28",
   "metadata": {},
   "outputs": [],
   "source": [
    "plt.scatter(dss.longitude.values, dss.latitude.values, s=4, c=dss.thetao.values, marker='o', cmap=plt.cm.Spectral)\n",
    "plt.colorbar()\n",
    "\n",
    "#dss.thetao.plot()"
   ]
  },
  {
   "cell_type": "markdown",
   "id": "a5b4f63f-4d5f-4cdc-a181-5eac3d5798f0",
   "metadata": {},
   "source": [
    "## Sanity check to make sure all output files were saved and combine them"
   ]
  },
  {
   "cell_type": "code",
   "execution_count": null,
   "id": "81eb6ea5-50f0-4b92-8a88-557a5582c344",
   "metadata": {},
   "outputs": [],
   "source": [
    "fStr = data_path_tc + tc_name + '_' + str(year) + '_' + data_request['dataset_id'] + '_*' + '.nc'\n",
    "nFiles_saved = len( glob.glob(fStr))\n",
    "if  nFiles_saved == len(tc_data.time):\n",
    "    ds = xr.open_mfdataset(fStr)\n",
    "    fName_save = data_path_tc + tc_name + '_' + str(year) + '_' + data_request['dataset_id']+'.nc'\n",
    "    ds.to_netcdf(fName_save)\n",
    "    print(\"Saved combined output to:\\n{}\".format(fName_save))"
   ]
  },
  {
   "cell_type": "markdown",
   "id": "820f4e79-e453-4dd3-b9fd-6564b1c5e671",
   "metadata": {},
   "source": [
    "## Subset data for +/- `nDays` before after storm (Eulerian sampling) - to do later."
   ]
  },
  {
   "cell_type": "code",
   "execution_count": null,
   "id": "975a52e1-28a2-4f7c-9aa6-a438a669231d",
   "metadata": {},
   "outputs": [],
   "source": [
    "#tc_date_s, tc_date_e = [tc_data[\"time\"].dt.strftime(\"%Y-%m-%d\").values[0], tc_data[\"time\"].dt.strftime(\"%Y-%m-%d\").values[0]]\n",
    "\n",
    "#sample_date_s,  sample_date_e = [pd.date_range(end=tc_date_s, periods=nDays)[0], \n",
    "#                pd.date_range(start=tc_date_e, periods=nDays)[-1]]\n",
    "#print(\"\\nSubsetting ocean reanalysis data between:\\n{}\\t-\\t{}.\\n\".format(sample_date_s,  sample_date_e))\n",
    "#glo12_hrly_sfc_subset = glo12_hrly_sfc.sel(time=slice(sample_date_s, sample_date_e))\n",
    "#fName_save = data_path_tc + tc_name + '_' + str(year) + '_' + data_request['dataset_id'] + '.nc'\n",
    "#glo12_hrly_sfc_subset.to_netcdf(fName_save)\n",
    "#print(\"Saved data to:\\n{}\".format(fName_save))"
   ]
  }
 ],
 "metadata": {
  "kernelspec": {
   "display_name": "Python [conda env:cmt_1.0] *",
   "language": "python",
   "name": "conda-env-cmt_1.0-py"
  },
  "language_info": {
   "codemirror_mode": {
    "name": "ipython",
    "version": 3
   },
   "file_extension": ".py",
   "mimetype": "text/x-python",
   "name": "python",
   "nbconvert_exporter": "python",
   "pygments_lexer": "ipython3",
   "version": "3.11.7"
  }
 },
 "nbformat": 4,
 "nbformat_minor": 5
}
