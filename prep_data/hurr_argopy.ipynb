{
  "nbformat": 4,
  "nbformat_minor": 0,
  "metadata": {
    "colab": {
      "provenance": [],
      "mount_file_id": "1Fd4UI-NmVWR5x-aEar2J2BRJvnOCCO9b",
      "authorship_tag": "ABX9TyMK/stvG0EE1jPCuiN0Emqi",
      "include_colab_link": true
    },
    "kernelspec": {
      "name": "python3",
      "display_name": "Python 3"
    },
    "language_info": {
      "name": "python"
    }
  },
  "cells": [
    {
      "cell_type": "markdown",
      "metadata": {
        "id": "view-in-github",
        "colab_type": "text"
      },
      "source": [
        "<a href=\"https://colab.research.google.com/github/sanAkel/ocean-hurricane/blob/main/prep_data/hurr_argopy.ipynb\" target=\"_parent\"><img src=\"https://colab.research.google.com/assets/colab-badge.svg\" alt=\"Open In Colab\"/></a>"
      ]
    },
    {
      "cell_type": "code",
      "execution_count": null,
      "metadata": {
        "collapsed": true,
        "id": "uqf61b0I03X-"
      },
      "outputs": [],
      "source": [
        "!pip install argopy"
      ]
    },
    {
      "cell_type": "code",
      "source": [
        "# https://nbviewer.org/github/euroargodev/argopy/blob/master/docs/tutorials/basic_features_core_01.ipynb\n",
        "import argopy\n",
        "\n",
        "import pandas as pd\n",
        "import numpy as np\n",
        "import xarray as xr\n",
        "from datetime import timedelta\n",
        "\n",
        "import matplotlib.pyplot as plt"
      ],
      "metadata": {
        "id": "LekuLaQU1ERb"
      },
      "execution_count": null,
      "outputs": []
    },
    {
      "cell_type": "code",
      "source": [
        "year  = 2024\n",
        "basin = 'north_atlantic'\n",
        "storm = 'MILTON' # 'BERYL' 'HELENE' 'KIRK' 'MILTON'\n",
        "\n",
        "dPath = f'drive/MyDrive/datasets/hurr/{str(year)}/SAT_datasets/'\n",
        "dT = 1 # ? days before/after storm"
      ],
      "metadata": {
        "id": "a4FAQ3Dc-JtM"
      },
      "execution_count": null,
      "outputs": []
    },
    {
      "cell_type": "code",
      "source": [
        "argopy.set_options(src='gdac', gdac='https://data-argo.ifremer.fr/')"
      ],
      "metadata": {
        "id": "XnETDNR9KAxA"
      },
      "execution_count": null,
      "outputs": []
    },
    {
      "cell_type": "markdown",
      "source": [
        "## Read hurricane processed track info"
      ],
      "metadata": {
        "id": "OkVvuQyS-Y0q"
      }
    },
    {
      "cell_type": "code",
      "source": [
        "# track\n",
        "fName_track = dPath + f'{year}_{basin}_{storm}.nc'\n",
        "track = xr.open_dataset(fName_track)\n",
        "\n",
        "track_lon_min, track_lon_max = [track.lon.values.min(), track.lon.values.max()]\n",
        "track_lat_min, track_lat_max = [track.lat.values.min(), track.lat.values.max()]"
      ],
      "metadata": {
        "id": "TaDNokdZ-buy"
      },
      "execution_count": null,
      "outputs": []
    },
    {
      "cell_type": "code",
      "source": [
        "# Get the initial and final dates of storm\n",
        "initial_date = pd.to_datetime(track.time[0].values)\n",
        "final_date = pd.to_datetime(track.time[-1].values)\n",
        "\n",
        "one_day_before = initial_date - timedelta(days=dT)\n",
        "one_day_after = final_date + timedelta(days=dT)\n",
        "\n",
        "str_one_day_before = one_day_before.strftime('%Y-%m-%d')\n",
        "str_one_day_after = one_day_after.strftime('%Y-%m-%d')\n",
        "\n",
        "print(f\"{storm} track\\nLon: [{track_lon_min}, {track_lon_max}]\\tLat: [{track_lat_min}, {track_lat_max}]\")\n",
        "\n",
        "print(f\"Plus/minus {dT}-days:\\t{str_one_day_before}-- {str_one_day_after}\")"
      ],
      "metadata": {
        "id": "CUYlv4qp-55r"
      },
      "execution_count": null,
      "outputs": []
    },
    {
      "cell_type": "code",
      "source": [
        "BOX = [track_lon_min, track_lon_max, track_lat_min, track_lat_max,\\\n",
        "       0, 2000,\\\n",
        "       str_one_day_before, str_one_day_after]\n",
        "\n",
        "f = argopy.DataFetcher(src='gdac', progress=True)\n",
        "f = f.region(BOX)  # Define a data selection\n",
        "f = f.load()       # Load data"
      ],
      "metadata": {
        "id": "Blc9EVm-1SQl"
      },
      "execution_count": null,
      "outputs": []
    },
    {
      "cell_type": "code",
      "source": [
        "ds=f.data"
      ],
      "metadata": {
        "id": "UsGBSf7QEUop"
      },
      "execution_count": null,
      "outputs": []
    },
    {
      "cell_type": "code",
      "source": [
        "print(ds)"
      ],
      "metadata": {
        "id": "DAVPq8bQMWr1"
      },
      "execution_count": null,
      "outputs": []
    },
    {
      "cell_type": "code",
      "source": [
        "# Remove the 'raw_attrs' attribute as it is a dictionary and cannot be saved to netCDF\n",
        "if 'raw_attrs' in ds.attrs:\n",
        "    del ds.attrs['raw_attrs']\n",
        "\n",
        "ds.to_netcdf(dPath + f'{year}_{basin}_{storm}_argo.nc')"
      ],
      "metadata": {
        "id": "BDRwEWCpNwSz"
      },
      "execution_count": null,
      "outputs": []
    },
    {
      "cell_type": "code",
      "source": [
        "fig = plt.figure(figsize=(8, 12))\n",
        "ax1 = fig.add_subplot(1, 1, 1)\n",
        "ax2 = ax1.twiny()\n",
        "\n",
        "ax1.plot(ds.TEMP.values, -ds.PRES.values, 'b.', label='Temperature')\n",
        "ax2.plot(ds.PSAL.values, -ds.PRES.values, 'r.', label='Salinity')\n",
        "ax1.set_ylim([-200, 0]); ax1.set_xlim([27, 31]);\n",
        "ax2.set_ylim([-200, 0]); ax2.set_xlim([35.5, 37.]);\n",
        "\n",
        "ax1.grid(True)\n",
        "\n",
        "# Add legends to both axes\n",
        "ax1.legend(loc='upper left')\n",
        "ax2.legend(loc='upper right')\n",
        "\n",
        "# Add axis labels and title\n",
        "ax1.set_xlabel('Temperature (°C)', color='blue')\n",
        "ax1.set_ylabel('Pressure (dbar)')\n",
        "ax2.set_xlabel('Salinity (PSU)', color='red')\n",
        "#plt.title('Temperature and Salinity Profile')"
      ],
      "metadata": {
        "id": "kHsIcJXZ3Tj_"
      },
      "execution_count": null,
      "outputs": []
    },
    {
      "cell_type": "code",
      "metadata": {
        "id": "9040a4a5"
      },
      "source": [
        "plt.figure(figsize=(10, 8))\n",
        "plt.scatter(ds.LONGITUDE.values, ds.LATITUDE.values, s=10, label='Argo Profiles')\n",
        "plt.plot(track.lon, track.lat, 'r-', linewidth=2, label='Hurricane Track')\n",
        "\n",
        "# Add text labels for the day of each Argo profile\n",
        "for i in range(len(ds.TIME.values)):\n",
        "    date_str = pd.to_datetime(ds.TIME.values[i]).strftime('%d')\n",
        "    plt.text(ds.LONGITUDE.values[i], ds.LATITUDE.values[i], date_str, fontsize=12)\n",
        "\n",
        "# Add text labels for the start and end of the track\n",
        "plt.text(track.lon[0].values, track.lat[0].values, pd.to_datetime(track.time[0].values).strftime('%Y-%m-%d'), color='red', fontsize=10)\n",
        "plt.text(track.lon[-1].values, track.lat[-1].values, pd.to_datetime(track.time[-1].values).strftime('%Y-%m-%d'), color='red', fontsize=10)\n",
        "\n",
        "\n",
        "plt.xlabel('Longitude')\n",
        "plt.ylabel('Latitude')\n",
        "plt.title(f'{storm} track and Argo Profile Locations')\n",
        "plt.legend(loc=2)\n",
        "plt.grid(True)\n",
        "plt.show()"
      ],
      "execution_count": null,
      "outputs": []
    },
    {
      "cell_type": "code",
      "source": [
        "ds"
      ],
      "metadata": {
        "id": "x4HZpNcMQui5"
      },
      "execution_count": null,
      "outputs": []
    },
    {
      "cell_type": "code",
      "metadata": {
        "id": "9d1da94c"
      },
      "source": [
        "def subset_argo_data(ds, target_date, lon_min, lon_max, lat_min, lat_max):\n",
        "  \"\"\"\n",
        "  Subsets the Argo dataset based on date and geographical range.\n",
        "\n",
        "  Args:\n",
        "    ds: The input xarray Dataset containing Argo data.\n",
        "    target_date: The date to filter by (datetime object or string).\n",
        "    lon_min: Minimum longitude.\n",
        "    lon_max: Maximum longitude.\n",
        "    lat_min: Minimum latitude.\n",
        "    lat_max: Maximum latitude.\n",
        "\n",
        "  Returns:\n",
        "    An xarray Dataset containing the subset of data.\n",
        "  \"\"\"\n",
        "  # Ensure target_date is a datetime object\n",
        "  if isinstance(target_date, str):\n",
        "      target_date = pd.to_datetime(target_date)\n",
        "\n",
        "  # Filter by date (profiles on the target date)\n",
        "  ds_subset = ds.sel(N_POINTS=(ds.TIME.dt.date == target_date.date()))\n",
        "\n",
        "  # Filter by geographical range\n",
        "  ds_subset = ds_subset.where(\n",
        "      (ds_subset.LONGITUDE >= lon_min) & (ds_subset.LONGITUDE <= lon_max) &\n",
        "      (ds_subset.LATITUDE >= lat_min) & (ds_subset.LATITUDE <= lat_max),\n",
        "      drop=True\n",
        "  )\n",
        "\n",
        "  return ds_subset"
      ],
      "execution_count": null,
      "outputs": []
    },
    {
      "cell_type": "code",
      "metadata": {
        "id": "af388fd0"
      },
      "source": [
        "target_date = '2024-10-08'\n",
        "lon_min = -87.5\n",
        "lon_max = -82.5\n",
        "lat_min = 24\n",
        "lat_max = 26\n",
        "\n",
        "subset_ds = subset_argo_data(ds, target_date, lon_min, lon_max, lat_min, lat_max)\n",
        "display(subset_ds)"
      ],
      "execution_count": null,
      "outputs": []
    },
    {
      "cell_type": "code",
      "metadata": {
        "id": "b625cfc1"
      },
      "source": [
        "fig = plt.figure(figsize=(12, 6))\n",
        "\n",
        "ax = fig.add_subplot(1, 2, 1)\n",
        "ax.plot(track.lon, track.lat, 'r-', linewidth=1, label='Hurricane Track')\n",
        "ax.scatter(subset_ds.LONGITUDE.values, subset_ds.LATITUDE.values, s=10, label='Subset Argo Profiles')\n",
        "ax.set_xlabel('Longitude')\n",
        "ax.set_ylabel('Latitude')\n",
        "# Add text labels for the start and end of the track\n",
        "ax.text(track.lon[0].values, track.lat[0].values, pd.to_datetime(track.time[0].values).strftime('%Y-%m-%d'), color='red', fontsize=10)\n",
        "ax.text(track.lon[-1].values, track.lat[-1].values, pd.to_datetime(track.time[-1].values).strftime('%Y-%m-%d'), color='red', fontsize=10)\n",
        "# add date of the profile\n",
        "for i in range(len(subset_ds.TIME.values)):\n",
        "    date_str = pd.to_datetime(subset_ds.TIME.values[i]).strftime('%Y-%m-%d')\n",
        "    ax.text(subset_ds.LONGITUDE.values[i], subset_ds.LATITUDE.values[i], date_str, fontsize=12)\n",
        "\n",
        "ax1 = fig.add_subplot(1, 2, 2)\n",
        "ax2 = ax1.twiny()\n",
        "ax1.plot(subset_ds.TEMP.values, -subset_ds.PRES.values, 'b.', ls='-', label='Temperature')\n",
        "ax2.plot(subset_ds.PSAL.values, -subset_ds.PRES.values, 'r.', ls= '-', label='Salinity')\n",
        "ax1.set_ylim([-200, 0]); ax1.set_xlim([27, 31]);\n",
        "ax2.set_ylim([-200, 0]); ax2.set_xlim([35.5, 37.]);\n",
        "ax1.grid(True)\n",
        "ax1.legend(loc='upper left')\n",
        "ax2.legend(loc='upper right')\n",
        "ax1.set_xlabel('Temperature (°C)', color='blue')\n",
        "ax1.set_ylabel('Pressure (dbar)')\n",
        "ax2.set_xlabel('Salinity (PSU)', color='red')\n",
        "\n",
        "# Change the color of the y-axis ticks for the temperature axis (ax1) to blue\n",
        "ax1.tick_params(axis='x', colors='blue')\n",
        "ax2.tick_params(axis='x', colors='red')"
      ],
      "execution_count": null,
      "outputs": []
    },
    {
      "cell_type": "code",
      "source": [],
      "metadata": {
        "id": "uX3iimK9WXx_"
      },
      "execution_count": null,
      "outputs": []
    }
  ]
}