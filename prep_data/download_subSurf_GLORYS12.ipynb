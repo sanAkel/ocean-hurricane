{
  "nbformat": 4,
  "nbformat_minor": 0,
  "metadata": {
    "colab": {
      "provenance": [],
      "authorship_tag": "ABX9TyOYgXhnmLLQ9jw3f66L7ad+",
      "include_colab_link": true
    },
    "kernelspec": {
      "name": "python3",
      "display_name": "Python 3"
    },
    "language_info": {
      "name": "python"
    }
  },
  "cells": [
    {
      "cell_type": "markdown",
      "metadata": {
        "id": "view-in-github",
        "colab_type": "text"
      },
      "source": [
        "<a href=\"https://colab.research.google.com/github/sanAkel/ocean-hurricane/blob/main/prep_data/download_subSurf_GLORYS12.ipynb\" target=\"_parent\"><img src=\"https://colab.research.google.com/assets/colab-badge.svg\" alt=\"Open In Colab\"/></a>"
      ]
    },
    {
      "cell_type": "markdown",
      "source": [
        "## Purpose is to Download\n",
        "- [Ocean-reanalysis data from GLorys12](https://data.marine.copernicus.eu/product/GLOBAL_ANALYSISFORECAST_PHY_001_024/services). Dataset specific info may change with dataset, you need to fill it in carefully by [looking up details](https://data.marine.copernicus.eu/product/GLOBAL_ANALYSISFORECAST_PHY_001_024/description).\n",
        "\n",
        "### Needed inputs:\n",
        "- basin (e.g., `north_atlantic`)\n",
        "- year (e.g., `2024`)\n",
        "- time_delta (e.g., `10`)\n",
        "- dLon, dLat (e.g., `5, 5`)\n",
        "- path to hurricane track data (see below for details)"
      ],
      "metadata": {
        "id": "qgSE1urx0WkX"
      }
    },
    {
      "cell_type": "markdown",
      "source": [
        "## Install modules"
      ],
      "metadata": {
        "id": "m8KE670x1p1d"
      }
    },
    {
      "cell_type": "code",
      "source": [
        "!pip install tropycal\n",
        "!pip install cartopy\n",
        "!pip install copernicusmarine"
      ],
      "metadata": {
        "collapsed": true,
        "id": "HNpM9xDk0bJv"
      },
      "execution_count": null,
      "outputs": []
    },
    {
      "cell_type": "code",
      "source": [
        "import copernicusmarine\n",
        "from tropycal import tracks\n",
        "import xarray as xr\n",
        "import numpy as np\n",
        "import pandas as pd\n",
        "import glob as glob\n",
        "\n",
        "import warnings\n",
        "warnings.filterwarnings(\"ignore\")"
      ],
      "metadata": {
        "id": "Rfd-KmRj1tyV"
      },
      "execution_count": null,
      "outputs": []
    },
    {
      "cell_type": "code",
      "source": [
        "# Read individual storm track data\n",
        "def get_hurr_data(hurr_file):\n",
        "  #print(\"Reading storm track info from:\\n{}\".format(hurr_file))\n",
        "  track_ds = xr.open_dataset(hurr_file)\n",
        "  print(\"{}, start and end days:\\n{} --> {}.\\n\".format(track_ds.attrs['name'], track_ds.time[0].values, track_ds.time[-1].values))\n",
        "  return track_ds"
      ],
      "metadata": {
        "id": "ukJQFph07_cr"
      },
      "execution_count": null,
      "outputs": []
    },
    {
      "cell_type": "code",
      "source": [
        "def get_subSetDataset(track_file, dtype, time_delta):\n",
        "  track_ds = get_hurr_data(track_file)\n",
        "  lat_s, lat_e = [track_ds.lat.min().values, track_ds.lat.max().values]\n",
        "  lon_s, lon_e = [track_ds.lon.min().values, track_ds.lon.max().values]\n",
        "  t_s= (track_ds.time[0] - pd.Timedelta(days=time_delta)).values\n",
        "  t_e= (track_ds.time[-1] + pd.Timedelta(days=time_delta)).values\n",
        "\n",
        "  dsetID, vNames, varNames = [ dtype['dsetID'], dtype['vNames'], dtype['varName']]\n",
        "  tmp = f\"{year}_{track_ds.attrs['name']}_{varNames}\"\n",
        "  fName = tmp + '_full.nc'\n",
        "  !copernicusmarine subset --dataset-id $dsetID --username $CMEMS_username --password $CMEMS_passwd -o $tmp --variable $vNames -x $lon_s -X $lon_e -y $lat_s -Y $lat_e -t $t_s -T $t_e --service arco-geo-series\n",
        "  !mv $tmp/* .config/$fName\n",
        "\n",
        "  dsFull = xr.open_dataset('.config/'+fName)\n",
        "  ds_track=subset_dataset(dsFull, track_ds, time_delta)\n",
        "  ds_track.to_netcdf(f\"{tmp}_track.nc\")\n",
        "  !rm -f .config/$fName"
      ],
      "metadata": {
        "id": "YB6qZBUsHgwE"
      },
      "execution_count": null,
      "outputs": []
    },
    {
      "cell_type": "code",
      "source": [
        "# Subset data along track\n",
        "def subset_dataset(cmems_ds, track_ds, time_delta=0):\n",
        "  subset_ds=cmems_ds.sel(time=track_ds.time+np.timedelta64(time_delta, 'D'),\n",
        "                         latitude=track_ds.lat,\n",
        "                         longitude=track_ds.lon, method=\"nearest\")\n",
        "  return subset_ds"
      ],
      "metadata": {
        "id": "V4WZH7Vv2OGS"
      },
      "execution_count": null,
      "outputs": []
    },
    {
      "cell_type": "markdown",
      "source": [
        "### User Inputs"
      ],
      "metadata": {
        "id": "dvkXxp4j2ZbT"
      }
    },
    {
      "cell_type": "code",
      "source": [
        "# Path to data\n",
        "# If not using colab/google drive, modify following data_path_root which has\n",
        "# processed track data or download on the fly, see [this example](https://github.com/sanAkel/ocean-hurricane/blob/main/prep_data/download_SAT_retr.ipynb)\n",
        "\n",
        "# Basin, year and category\n",
        "myBasin = 'north_atlantic'\n",
        "year = 2024\n",
        "time_delta = 0 # days before/after storm\n",
        "dLon, dLat = [1, 1] # plot extra data outside track bounds (in degrees)\n",
        "\n",
        "data_path = '/content/drive/MyDrive/' + f'datasets/hurr/{myBasin}/{year}/'\n",
        "# Mount drive - to read/save files once done\n",
        "# If not using colab/google drive, comment following 2 lines.\n",
        "from google.colab import drive\n",
        "drive.mount('/content/drive/')"
      ],
      "metadata": {
        "id": "m4ZR9HLI2c24"
      },
      "execution_count": null,
      "outputs": []
    },
    {
      "cell_type": "code",
      "source": [
        "# Set Copernicus credentials\n",
        "CMEMS_username, CMEMS_passwd = [\"sakella\", \"HbFPyP9M\"]\n",
        "\n",
        "# CMEMS dataset IDs - Reanalysis GLORYS12\n",
        "# Currents\n",
        "uCurr={'dsetID':'cmems_mod_glo_phy-cur_anfc_0.083deg_PT6H-i',\n",
        "      'vNames':\"uo\",\n",
        "      'varName':'SSU'}\n",
        "\n",
        "vCurr={'dsetID':'cmems_mod_glo_phy-cur_anfc_0.083deg_PT6H-i',\n",
        "      'vNames':\"vo\",\n",
        "      'varName':'SSV'}\n",
        "\n",
        "# potential temperature\n",
        "potT={'dsetID':'cmems_mod_glo_phy-thetao_anfc_0.083deg_PT6H-i',\n",
        "      'vNames':\"thetao\",\n",
        "      'varName':'potT'}\n",
        "\n",
        "# salinity\n",
        "sal={'dsetID':'cmems_mod_glo_phy-so_anfc_0.083deg_PT6H-i',\n",
        "      'vNames':\"so\",\n",
        "      'varName':'sal'}"
      ],
      "metadata": {
        "id": "pLo8zpjvV7Yc"
      },
      "execution_count": null,
      "outputs": []
    },
    {
      "cell_type": "markdown",
      "source": [
        "## Read (already downloaded) track dataset and download profiles"
      ],
      "metadata": {
        "id": "JuAADzQB7D8b"
      }
    },
    {
      "cell_type": "code",
      "source": [
        "track_files = sorted(glob.glob(data_path + f'{year}_{myBasin}*.nc'))\n",
        "print(f\"Found {len(track_files)} track files:\")\n",
        "\n",
        "for i, track_file in enumerate(track_files):\n",
        "  print(f\"{i+1}. {track_file}\")\n",
        "\n",
        "  for dtype in [potT, sal, uCurr, vCurr]:\n",
        "    get_subSetDataset(track_file, dtype, time_delta)\n",
        "  print(\"\\n\")"
      ],
      "metadata": {
        "id": "W0Y7XjUp7C9g"
      },
      "execution_count": null,
      "outputs": []
    }
  ]
}