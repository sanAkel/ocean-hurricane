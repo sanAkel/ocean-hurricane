{
  "nbformat": 4,
  "nbformat_minor": 0,
  "metadata": {
    "colab": {
      "provenance": [],
      "mount_file_id": "16gdLb89O9XwQiNxfoOW4QqsM5LAt_C-T",
      "authorship_tag": "ABX9TyPNdr0Tk2uezMjsDtUiSz/3",
      "include_colab_link": true
    },
    "kernelspec": {
      "name": "python3",
      "display_name": "Python 3"
    },
    "language_info": {
      "name": "python"
    }
  },
  "cells": [
    {
      "cell_type": "markdown",
      "metadata": {
        "id": "view-in-github",
        "colab_type": "text"
      },
      "source": [
        "<a href=\"https://colab.research.google.com/github/sanAkel/ocean-hurricane/blob/main/prep_data/GTMBA/GTMBA_pirata.ipynb\" target=\"_parent\"><img src=\"https://colab.research.google.com/assets/colab-badge.svg\" alt=\"Open In Colab\"/></a>"
      ]
    },
    {
      "cell_type": "code",
      "source": [
        "!pip install cartopy"
      ],
      "metadata": {
        "id": "Nzx8tuMZJiKU"
      },
      "execution_count": null,
      "outputs": []
    },
    {
      "cell_type": "markdown",
      "source": [
        "## User inputs"
      ],
      "metadata": {
        "id": "PQ1nK8OrIk_S"
      }
    },
    {
      "cell_type": "code",
      "source": [
        "import glob as glob\n",
        "import xarray as xr\n",
        "import numpy as np\n",
        "\n",
        "import cartopy.crs as ccrs\n",
        "import cartopy.feature as cfeature\n",
        "import matplotlib.pyplot as plt"
      ],
      "metadata": {
        "id": "T753GAqiHvZh"
      },
      "execution_count": null,
      "outputs": []
    },
    {
      "cell_type": "code",
      "source": [
        "var = \"sss\"\n",
        "\n",
        "time_start, time_end = [\"2024-06-20\", \"2024-10-15\"]\n",
        "lat_start, lat_end = [0, 60]\n",
        "lon_start, lon_end = [280, 360]"
      ],
      "metadata": {
        "id": "qfLjl5InIEUh"
      },
      "execution_count": null,
      "outputs": []
    },
    {
      "cell_type": "code",
      "execution_count": null,
      "metadata": {
        "id": "4X2EffFsHFN6"
      },
      "outputs": [],
      "source": [
        "dPath = \"drive/MyDrive/datasets/GTMBA/download_17Jun2025/\" + f\"{var}/\"\n",
        "print(f\"Reading data from:\\n{dPath}\")"
      ]
    },
    {
      "cell_type": "markdown",
      "source": [
        "## Read:\n",
        "- `All` buoys.\n",
        "- `Subset` those within the time of interest.\n",
        "- `Subset` for the region of interest."
      ],
      "metadata": {
        "id": "tbh6UBtkSdUC"
      }
    },
    {
      "cell_type": "code",
      "source": [
        "fNames = glob.glob(dPath + \"*.cdf\")\n",
        "fNames_subset = []\n",
        "\n",
        "lons = []; lats = []\n",
        "lons_subset = []; lats_subset = []\n",
        "\n",
        "print(f\"Data files in the region of interest and time:\\n\\n\")\n",
        "for fName in fNames:\n",
        "  #print(fName)\n",
        "  ds = xr.open_dataset(fName)\n",
        "  lon, lat = [ds.lon.values[0], ds.lat.values[0]]\n",
        "  #print(lon, lat)\n",
        "  lons.append(lon)\n",
        "  lats.append(lat)\n",
        "\n",
        "  ds_subset = ds.sel(time=slice(time_start, time_end))\n",
        "  nT = len(ds_subset.time)\n",
        "  #print(nT)\n",
        "  if nT > 0:\n",
        "    lonx, latx = [ds_subset.lon.values[0], ds_subset.lat.values[0]]\n",
        "    if (lonx >= lon_start) and (lonx <= lon_end) and (latx >= lat_start) and (latx <= lat_end):\n",
        "      #print(lonx, latx)\n",
        "      print(fName)\n",
        "      fNames_subset.append(fName)\n",
        "      lons_subset.append(lonx)\n",
        "      lats_subset.append(latx)\n",
        "\n",
        "  ds.close()\n",
        "\n",
        "lons = np.asarray(lons)\n",
        "lats = np.asarray(lats)\n",
        "\n",
        "lons_subset = np.asarray(lons_subset)\n",
        "lats_subset = np.asarray(lats_subset)"
      ],
      "metadata": {
        "id": "Yv98uwlZH5wn"
      },
      "execution_count": null,
      "outputs": []
    },
    {
      "cell_type": "code",
      "source": [
        "fig = plt.figure(figsize=(8, 10))\n",
        "ax = fig.add_subplot(111, projection=ccrs.PlateCarree())\n",
        "ax.coastlines(color='k', alpha=0.5)\n",
        "ax.add_feature(cfeature.LAND, facecolor='gray', alpha=0.1)\n",
        "\n",
        "gl = ax.gridlines(draw_labels=True, linewidth=0.5, alpha=0.4, color='k',\n",
        "                  linestyle='--')\n",
        "gl.top_labels = False\n",
        "gl.right_labels = False\n",
        "\n",
        "ax.set_extent([lon_start, lon_end, lat_start, lat_end], crs=ccrs.PlateCarree())\n",
        "#ax.set_global()\n",
        "# --\n",
        "\n",
        "ax.plot(lons, lats, marker='o', ms=8, mfc='w', ls='None', transform=ccrs.PlateCarree())\n",
        "ax.plot(lons_subset, lats_subset, marker='x', ms=8, mfc='b', ls='None', transform=ccrs.PlateCarree())"
      ],
      "metadata": {
        "id": "qKZ6R5nKJ59j"
      },
      "execution_count": null,
      "outputs": []
    },
    {
      "cell_type": "code",
      "source": [
        "if var == \"sst\":\n",
        "  vName = 'T_25'\n",
        "  qFlagName = 'QT_5025'\n",
        "  qFlag = 2 # default quality https://www.pmel.noaa.gov/gtmba/data-quality-control\n",
        "\n",
        "elif var == \"sss\":\n",
        "  vName = 'S_41'\n",
        "  qFlagName = 'QS_5041'\n",
        "  qFlag = 2 # default quality https://www.pmel.noaa.gov/gtmba/data-quality-control\n",
        "\n",
        "else:\n",
        "  print(f\"\\n\\n{var} has not yet been coded.\\n\\n\")"
      ],
      "metadata": {
        "id": "1XVRc2NwIF9A"
      },
      "execution_count": null,
      "outputs": []
    },
    {
      "cell_type": "code",
      "source": [
        "for iMoor, fName in enumerate(fNames_subset):\n",
        "  ds = xr.open_dataset(fName)\n",
        "  ds_subset = ds.sel(time=slice(time_start, time_end))\n",
        "  good_data = ds_subset.where(ds[qFlagName]==qFlag)\n",
        "\n",
        "  label = f\"{ds_subset['lat'].values[0]:.1f}N, {360.-ds_subset['lon'].values[0]:.1f}W\"\n",
        "  #ds_subset[vName].plot(label=label, marker='x', ls='None')\n",
        "  good_data[vName].plot(label=label, marker='o', ms=1, ls='None')\n",
        "\n",
        "plt.legend(ncol=2)"
      ],
      "metadata": {
        "id": "z8E-30tDSQBz"
      },
      "execution_count": null,
      "outputs": []
    },
    {
      "cell_type": "code",
      "source": [],
      "metadata": {
        "id": "eT4A93JtJy0J"
      },
      "execution_count": null,
      "outputs": []
    }
  ]
}