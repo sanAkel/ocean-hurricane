{
  "nbformat": 4,
  "nbformat_minor": 0,
  "metadata": {
    "colab": {
      "provenance": [],
      "mount_file_id": "https://github.com/sanAkel/ocean-hurricane/blob/main/prep_data/GTMBA/download_GTMBA_data.ipynb",
      "authorship_tag": "ABX9TyNvdRy9L332heF1m+/lJQGM",
      "include_colab_link": true
    },
    "kernelspec": {
      "name": "python3",
      "display_name": "Python 3"
    },
    "language_info": {
      "name": "python"
    }
  },
  "cells": [
    {
      "cell_type": "markdown",
      "metadata": {
        "id": "view-in-github",
        "colab_type": "text"
      },
      "source": [
        "<a href=\"https://colab.research.google.com/github/sanAkel/ocean-hurricane/blob/main/prep_data/GTMBA/download_GTMBA_data.ipynb\" target=\"_parent\"><img src=\"https://colab.research.google.com/assets/colab-badge.svg\" alt=\"Open In Colab\"/></a>"
      ]
    },
    {
      "cell_type": "markdown",
      "source": [
        "## Set location (web) of the data and gather the list of `relevant` files\n",
        "\n",
        "Relevant:\n",
        "- `sst`\n",
        "- `sss`\n",
        "- ..."
      ],
      "metadata": {
        "id": "BDK-m4amgHa0"
      }
    },
    {
      "cell_type": "code",
      "execution_count": null,
      "metadata": {
        "id": "CWqPbR_Vb-id"
      },
      "outputs": [],
      "source": [
        "url_root = 'https://www.pmel.noaa.gov/tao/taoweb/disdel_data/high_resolution/cdf/hr/'\n",
        "\n",
        "vName = 'sss'\n",
        "\n",
        "!curl -O -s $url_root/files.txt\n",
        "!grep $vName files.txt > files_obs.txt"
      ]
    },
    {
      "cell_type": "code",
      "source": [
        "!cat files_obs.txt"
      ],
      "metadata": {
        "collapsed": true,
        "id": "KdcSgS69cUNI"
      },
      "execution_count": null,
      "outputs": []
    },
    {
      "cell_type": "markdown",
      "source": [
        "### Download"
      ],
      "metadata": {
        "id": "RH20s1UJgaYk"
      }
    },
    {
      "cell_type": "code",
      "metadata": {
        "collapsed": true,
        "id": "24d33a21"
      },
      "source": [
        "import subprocess\n",
        "\n",
        "# Read file names from files.txt\n",
        "with open('files_obs.txt', 'r') as f:\n",
        "    file_list = f.read().splitlines()\n",
        "\n",
        "# Download each file\n",
        "for filename in file_list:\n",
        "    print(f\"Downloading {filename}...\")\n",
        "    subprocess.run(['curl', '-O', '-s', f'{url_root}/{filename}'])\n",
        "\n",
        "# Clean up the files.txt file\n",
        "subprocess.run(['/bin/rm', '-f', 'files_obs.txt'])\n",
        "\n",
        "print(\"Download complete.\")"
      ],
      "execution_count": null,
      "outputs": []
    },
    {
      "cell_type": "code",
      "source": [
        "!gunzip *.cdf.gz"
      ],
      "metadata": {
        "id": "CK2iUXkre6WM"
      },
      "execution_count": null,
      "outputs": []
    },
    {
      "cell_type": "markdown",
      "source": [
        "### Move to a convenient path to use later."
      ],
      "metadata": {
        "id": "h7e7Qpb0geoz"
      }
    },
    {
      "cell_type": "code",
      "source": [
        "oPath = \"drive/MyDrive/datasets/GTMBA/download_17Jun2025/\"\n",
        "!mkdir -p $oPath/$vName\n",
        "!ls $oPath/$vName"
      ],
      "metadata": {
        "id": "Y8718_nvdcNf"
      },
      "execution_count": null,
      "outputs": []
    },
    {
      "cell_type": "code",
      "source": [
        "!mv *.cdf $oPath/$vName"
      ],
      "metadata": {
        "id": "F_8ktRrieH9e"
      },
      "execution_count": null,
      "outputs": []
    }
  ]
}