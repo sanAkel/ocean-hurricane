{
  "nbformat": 4,
  "nbformat_minor": 0,
  "metadata": {
    "colab": {
      "provenance": [],
      "mount_file_id": "1hHIDMNfFwxnuFtpkMQ0VGLwAXM5-TFiH",
      "authorship_tag": "ABX9TyM1vPV65BMB3yw494DsQ2RA",
      "include_colab_link": true
    },
    "kernelspec": {
      "name": "python3",
      "display_name": "Python 3"
    },
    "language_info": {
      "name": "python"
    }
  },
  "cells": [
    {
      "cell_type": "markdown",
      "metadata": {
        "id": "view-in-github",
        "colab_type": "text"
      },
      "source": [
        "<a href=\"https://colab.research.google.com/github/sanAkel/ocean-hurricane/blob/main/prep_data/SST_before_after_storm.ipynb\" target=\"_parent\"><img src=\"https://colab.research.google.com/assets/colab-badge.svg\" alt=\"Open In Colab\"/></a>"
      ]
    },
    {
      "cell_type": "code",
      "source": [
        "!pip install cartopy"
      ],
      "metadata": {
        "collapsed": true,
        "id": "LNpKTeNLKZ_y"
      },
      "execution_count": null,
      "outputs": []
    },
    {
      "cell_type": "code",
      "source": [
        "import xarray as xr\n",
        "import numpy as np\n",
        "import pandas as pd\n",
        "import glob as glob\n",
        "\n",
        "import cartopy.crs as ccrs\n",
        "import cartopy.feature as cfeature\n",
        "from cartopy.mpl.gridliner import LONGITUDE_FORMATTER, LATITUDE_FORMATTER\n",
        "\n",
        "import matplotlib.pyplot as plt\n",
        "%matplotlib inline"
      ],
      "metadata": {
        "id": "Z5uTJ6yw0zL3"
      },
      "execution_count": null,
      "outputs": []
    },
    {
      "cell_type": "code",
      "source": [
        "year  = '2024'\n",
        "basin = 'north_atlantic'\n",
        "time_delta = 5 # days before/after storm\n",
        "storm = 'MILTON'\n",
        "\n",
        "if storm == 'BERYL':\n",
        "  cMin, cMax = [15., 30.]\n",
        "  diff_cMin, diff_cMax = [-5., 5.]\n",
        "elif storm == \"HELENE\":\n",
        "  cMin, cMax = [25., 32.]\n",
        "  diff_cMin, diff_cMax = [-2., 2.]\n",
        "elif storm == \"KIRK\":\n",
        "  cMin, cMax = [20., 30.]\n",
        "  diff_cMin, diff_cMax = [-5., 5.]\n",
        "elif storm == \"MILTON\":\n",
        "  cMin, cMax = [26., 32.]\n",
        "  diff_cMin, diff_cMax = [-5., 5.]\n",
        "else:\n",
        "  cMin, cMax = [-99., 99.]\n",
        "  diff_cMin, diff_cMax = [-99., 99.]\n",
        "\n",
        "dPath = f'drive/MyDrive/datasets/hurr/{year}/SAT_datasets/'\n",
        "fNames = sorted( glob.glob(f'{dPath}/*{storm}*'))\n",
        "\n",
        "print(f'Found [{len(fNames)}] files for {storm}, names:\\n')\n",
        "for fName in fNames:\n",
        "  print(fName)"
      ],
      "metadata": {
        "id": "jaoiWWDmHSKa"
      },
      "execution_count": null,
      "outputs": []
    },
    {
      "cell_type": "code",
      "source": [
        "# track\n",
        "fName_track = dPath + f'{year}_{basin}_{storm}.nc'\n",
        "track = xr.open_dataset(fName_track)\n",
        "#print(track)\n",
        "\n",
        "vName = 'SST'\n",
        "# SST (OSTIA)\n",
        "fName_sat_sst = dPath + f'{vName}_{year}_{storm}.nc'\n",
        "sat_sst = xr.open_dataset(fName_sat_sst)\n",
        "#print(sat_sst)"
      ],
      "metadata": {
        "id": "p6BNH5wFwxca"
      },
      "execution_count": null,
      "outputs": []
    },
    {
      "cell_type": "markdown",
      "source": [
        "### Plot SST before and after"
      ],
      "metadata": {
        "id": "KweCGtjxI-yp"
      }
    },
    {
      "cell_type": "code",
      "source": [
        "plot_width, plot_height, plot_dpi = [16, 6, 120]\n",
        "\n",
        "fig, ax = plt.subplots(figsize=(plot_width, plot_height), nrows=1, ncols=3, sharey=True, clear=True, dpi=180, subplot_kw={'projection': ccrs.PlateCarree()})\n",
        "\n",
        "im1a=(sat_sst['analysed_sst']-273.15).isel(time=0).plot(ax=ax[0], vmin=cMin, vmax=cMax, cmap='viridis', add_colorbar=False, transform=ccrs.PlateCarree())\n",
        "im1a=ax[0].scatter(track['lon'], track['lat'], s=track['vmax'], ls='None', facecolor='None', edgecolor='w', transform=ccrs.PlateCarree())\n",
        "\n",
        "im2a=(sat_sst['analysed_sst']-273.15).isel(time=-1).plot(ax=ax[1], vmin=cMin, vmax=cMax, cmap='viridis', add_colorbar=False, transform=ccrs.PlateCarree())\n",
        "im2b=ax[1].scatter(track['lon'], track['lat'], s=track['vmax'], ls='None', facecolor='None', edgecolor='w', transform=ccrs.PlateCarree())\n",
        "ax[1].set_ylabel('')\n",
        "\n",
        "im3a=(sat_sst['analysed_sst'].isel(time=-1)-sat_sst['analysed_sst'].isel(time=0)).plot(ax=ax[2], vmin=diff_cMin, vmax=diff_cMax, add_colorbar=False, cmap='RdBu_r', transform=ccrs.PlateCarree())\n",
        "im3b=ax[2].scatter(track['lon'], track['lat'], s=track['vmax'], ls='None', facecolor='None', edgecolor='k', transform=ccrs.PlateCarree())\n",
        "\n",
        "ax[2].set_title('SST diff: after - before')\n",
        "ax[2].set_ylabel('')\n",
        "\n",
        "cax1 = fig.add_axes([0.635, 0.35, 0.01, 0.3])\n",
        "cax2 = fig.add_axes([0.91, 0.35, 0.01, 0.3])\n",
        "\n",
        "cbar1 = plt.colorbar(im2a, cax1)\n",
        "cbar1.ax.set_title('SST', fontsize=14)\n",
        "#cbar1.ax.set_ylabel('SST', fontsize=14)\n",
        "cbar1.ax.set_xlabel('[°C]', fontsize=14)\n",
        "\n",
        "cbar2 = plt.colorbar(im3a, cax2)\n",
        "cbar2.ax.set_title('Delta\\nSST', fontsize=14)\n",
        "cbar2.ax.set_xlabel('[°C]', fontsize=14)\n",
        "\n",
        "for ax_i in ax:\n",
        "  ax_i.coastlines()\n",
        "  ax_i.add_feature(cfeature.LAND, facecolor='0.7')\n",
        "\n",
        "  gl = ax_i.gridlines(draw_labels=True)\n",
        "  gl.top_labels = False\n",
        "  gl.right_labels = False\n",
        "  gl.xformatter = LONGITUDE_FORMATTER\n",
        "  gl.yformatter = LATITUDE_FORMATTER\n",
        "  gl.xlabel_style = {'size': 4}\n",
        "  gl.ylabel_style = {'size': 4}\n",
        "\n",
        "#plt.tight_layout()\n",
        "\n",
        "figName = \"{}_{}_{}_{}\".format(year, basin, storm, vName)\n",
        "plt.savefig(figName, bbox_inches='tight', dpi=plot_dpi)"
      ],
      "metadata": {
        "id": "_ru31tGKyV-5"
      },
      "execution_count": null,
      "outputs": []
    },
    {
      "cell_type": "code",
      "source": [
        "(sat_sst['analysed_sst']-273.15).isel(time=0).plot(cmap='viridis')\n",
        "#vmin=26, vmax=32)"
      ],
      "metadata": {
        "id": "IV9lNdKLAEZD"
      },
      "execution_count": null,
      "outputs": []
    },
    {
      "cell_type": "markdown",
      "source": [
        "## SST under the storm track: few days before - after storm passage"
      ],
      "metadata": {
        "id": "F3QAV4GmUIXc"
      }
    },
    {
      "cell_type": "code",
      "source": [
        "plot_width, plot_height, plot_dpi = [6, 4, 120]\n",
        "\n",
        "fig = plt.figure(figsize=(plot_width, plot_height), clear=True, dpi=180)\n",
        "ax = plt.axes()\n",
        "\n",
        "dts = [-5, -1, 0, 1, 5] # days relative to storm\n",
        "\n",
        "vals = np.zeros((len(dts), len(track['time'])))\n",
        "# gather data\n",
        "for idt, dt in enumerate(dts):\n",
        "  print(f'\\n{idt} Gathering data {dt} days relative to storm')\n",
        "  for iT in range(len(track['time'])):\n",
        "    pos_t, pos_x, pos_y = \\\n",
        "     [track.isel(time=iT).time.values+np.timedelta64(dt, 'D'),\\\n",
        "        track.isel(time=iT).lon.values, track.isel(time=iT).lat.values]\n",
        "    #print(pos_t, pos_x, pos_y)\n",
        "    vals[idt, iT] = sat_sst.analysed_sst.sel(time=pos_t, longitude=pos_x, latitude=pos_y, method='nearest').values\n",
        "\n",
        "  ax.plot(track['time'].values, vals[idt,:]-273.15, label=f'{dt} days')\n",
        "ax.legend()\n",
        "ax.set_ylabel('SST [°C]')\n",
        "ax.set_xlabel('Time')\n",
        "ax.tick_params(axis='x', rotation=45)\n",
        "\n",
        "ax2 = ax.twinx()\n",
        "ax2.plot(track['time'].values, track['mslp'].values, marker='o',\\\n",
        "         ls='--', color='k')\n",
        "ax2.set_ylabel('MSLP [hPa]')\n",
        "\n",
        "ax2.text(track.isel(time=-6)['time'].values, track.mslp.min()+10,\\\n",
        "         '{}'.format(storm), c='r', fontsize=16)\n",
        "figName = \"along_track_{}_{}_{}_{}.png\".format(vName, year, basin, storm)\n",
        "plt.savefig(figName, bbox_inches='tight')"
      ],
      "metadata": {
        "id": "lD4oLKXPqnVE"
      },
      "execution_count": null,
      "outputs": []
    }
  ]
}