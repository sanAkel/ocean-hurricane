{
  "nbformat": 4,
  "nbformat_minor": 0,
  "metadata": {
    "colab": {
      "provenance": [],
      "authorship_tag": "ABX9TyMWbNAO4rf8c3UjNCg0gRqE",
      "include_colab_link": true
    },
    "kernelspec": {
      "name": "python3",
      "display_name": "Python 3"
    },
    "language_info": {
      "name": "python"
    }
  },
  "cells": [
    {
      "cell_type": "markdown",
      "metadata": {
        "id": "view-in-github",
        "colab_type": "text"
      },
      "source": [
        "<a href=\"https://colab.research.google.com/github/sanAkel/ocean-hurricane/blob/main/prep_data/HAFS/download_HAFSa_.ipynb\" target=\"_parent\"><img src=\"https://colab.research.google.com/assets/colab-badge.svg\" alt=\"Open In Colab\"/></a>"
      ]
    },
    {
      "cell_type": "markdown",
      "source": [
        "## To download [HAFSA](https://www.emc.ncep.noaa.gov/hurricane/HFSA/) atmospheric data from [AWS.](https://noaa-nws-hafs-pds.s3.amazonaws.com/index.html)\n",
        "\n",
        "## Tried to follow [this](https://medium.com/@elliottwobler/how-to-get-started-with-grib2-weather-data-and-python-757df9433d19) notebook on how to read grib2 data file."
      ],
      "metadata": {
        "id": "zBhroWUq8YgG"
      }
    },
    {
      "cell_type": "code",
      "source": [
        "# pynio would be nice - if only pip can find a version!\n",
        "!pip install cfgrib\n",
        "\n",
        "!pip install holoviews\n",
        "!pip install hvplot"
      ],
      "metadata": {
        "id": "fmL5E9Wz9ZVd"
      },
      "execution_count": null,
      "outputs": []
    },
    {
      "cell_type": "markdown",
      "source": [
        "## Data URLs"
      ],
      "metadata": {
        "id": "FZ0zYpWwAOEj"
      }
    },
    {
      "cell_type": "code",
      "source": [
        "# 2024/08/22 First available HAFSA MOM6 output\n",
        "#grb_url = \"https://noaa-nws-hafs-pds.s3.amazonaws.com/hfsa/20240822/00/07e.2024082200.hfsa.parent.atm.f000.grb2\"\n",
        "\n",
        "#mom_url = \"https://noaa-nws-hafs-pds.s3.amazonaws.com/hfsa/20240822/00/07e.2024082200.hfsa.mom6.f000.nc\"\n",
        "\n",
        "# 2024/10/06\n",
        "\n",
        "grb_url = \"https://noaa-nws-hafs-pds.s3.amazonaws.com/hfsa/20241010/00/14l.2024101000.hfsa.parent.atm.f000.grb2\"\n",
        "\n",
        "mom_url = \"https://noaa-nws-hafs-pds.s3.amazonaws.com/hfsa/20241010/00/14l.2024101000.hfsa.mom6.f000.nc\"\n",
        "\n",
        "grb_idx_url = grb_url + \".idx\""
      ],
      "metadata": {
        "id": "zXkBvqMS82VL"
      },
      "execution_count": null,
      "outputs": []
    },
    {
      "cell_type": "code",
      "source": [
        "# atmospheric data\n",
        "!wget -O hfsa_atm.grb2 {grb_url}\n",
        "!wget -O hfsa_atm.grb2.idx {grb_idx_url}\n",
        "\n",
        "# ocean data\n",
        "!wget -O hfsa_mom.nc {mom_url}"
      ],
      "metadata": {
        "id": "tRcuPCGcARp5"
      },
      "execution_count": null,
      "outputs": []
    },
    {
      "cell_type": "code",
      "source": [
        "import xarray as xr\n",
        "import cfgrib as cfg\n",
        "\n",
        "import matplotlib.pyplot as plt\n",
        "import numpy as np\n",
        "import pandas as pd\n",
        "\n",
        "import hvplot.xarray"
      ],
      "metadata": {
        "id": "A4ie9Uk4GYWp"
      },
      "execution_count": null,
      "outputs": []
    },
    {
      "cell_type": "markdown",
      "source": [
        "## Load data\n",
        "- Atmospheric surface.\n",
        "- Atmospheric profile (3-d)."
      ],
      "metadata": {
        "id": "4woritFzGLuU"
      }
    },
    {
      "cell_type": "code",
      "source": [
        "# Filter the dataset to include only data with typeOfLevel 'surface'\n",
        "ds_atm_sfc = xr.open_dataset(\"hfsa_atm.grb2\", engine=\"cfgrib\",\\\n",
        "                         filter_by_keys={'stepType': 'instant', 'typeOfLevel': 'surface'}, decode_timedelta=True)"
      ],
      "metadata": {
        "id": "PNwFBwqjF014"
      },
      "execution_count": null,
      "outputs": []
    },
    {
      "cell_type": "code",
      "source": [
        "ds_atm_sfc"
      ],
      "metadata": {
        "id": "nKGxsV2yJTwy"
      },
      "execution_count": null,
      "outputs": []
    },
    {
      "cell_type": "code",
      "source": [
        "(ds_atm_sfc['sp']/100.).hvplot()"
      ],
      "metadata": {
        "id": "tititMPvGV5x"
      },
      "execution_count": null,
      "outputs": []
    },
    {
      "cell_type": "code",
      "source": [
        "ds_atm = xr.open_dataset(\"hfsa_atm.grb2\", engine=\"cfgrib\",\\\n",
        "                             filter_by_keys={'typeOfLevel': 'isobaricInhPa'}, decode_timedelta=True)"
      ],
      "metadata": {
        "id": "4WQ0vHU0IiLD"
      },
      "execution_count": null,
      "outputs": []
    },
    {
      "cell_type": "code",
      "source": [
        "ds_atm"
      ],
      "metadata": {
        "id": "EqFm54djJBLH"
      },
      "execution_count": null,
      "outputs": []
    },
    {
      "cell_type": "code",
      "source": [
        "atm_mean_prof = ds_atm.sel(longitude=slice(200, 220), latitude=slice(15, 25)).mean(('longitude', 'latitude'))"
      ],
      "metadata": {
        "id": "hRhV3_buJZVF"
      },
      "execution_count": null,
      "outputs": []
    },
    {
      "cell_type": "markdown",
      "source": [
        "## Ocean data"
      ],
      "metadata": {
        "id": "FYxwr4TWMGOj"
      }
    },
    {
      "cell_type": "code",
      "source": [
        "ds_ocn = xr.open_dataset(\"hfsa_mom.nc\", decode_times=False)\n",
        "\n",
        "ds_ocn = ds_ocn.assign_coords({'geolon': ds_ocn['geolon'],\n",
        "                       'geolat': ds_ocn['geolat']})"
      ],
      "metadata": {
        "id": "qDKeoyPtHuE6"
      },
      "execution_count": null,
      "outputs": []
    },
    {
      "cell_type": "code",
      "source": [
        "ds_ocn"
      ],
      "metadata": {
        "id": "AV7y1yYNMW6S"
      },
      "execution_count": null,
      "outputs": []
    },
    {
      "cell_type": "code",
      "source": [
        "ds_ocn.LwLatSens.isel(time=0).hvplot(x='geolon', y='geolat', kind='quadmesh')"
      ],
      "metadata": {
        "id": "wN2AXJqyNSi3"
      },
      "execution_count": null,
      "outputs": []
    },
    {
      "cell_type": "code",
      "source": [
        "ocn_mean_prof = ds_ocn.sel(xh=slice(-130, -120), yh=slice(15, 25)).mean(('xh', 'yh'))"
      ],
      "metadata": {
        "id": "fKkKIDbZNhES"
      },
      "execution_count": null,
      "outputs": []
    },
    {
      "cell_type": "code",
      "source": [
        "tOffset = 273.15\n",
        "\n",
        "\n",
        "fig, ax = plt.subplots(2, 1, figsize=(4, 12))\n",
        "\n",
        "atm_mean_prof.t.plot(ax=ax[0], y='isobaricInhPa', yincrease=False)\n",
        "(ocn_mean_prof.isel(time=0).temp+tOffset).plot(ax=ax[1], y='z_l', yincrease=False)\n",
        "\n",
        "ax[0].axis('tight')\n",
        "ax[1].axis('tight')\n",
        "\n",
        "ax[0].set_title('')\n",
        "ax[0].set_xlabel('Atm Temperature [K]')\n",
        "ax[0].set_ylabel('Pressure (hPa)')\n",
        "\n",
        "ax[1].set_title('')\n",
        "ax[1].set_xlabel('Ocean Temperature [$^o$C]')\n",
        "ax[1].set_ylabel('Depth (m)')"
      ],
      "metadata": {
        "id": "fCex2BFOP7tx"
      },
      "execution_count": null,
      "outputs": []
    },
    {
      "cell_type": "code",
      "source": [
        "print(f'Mean of the atmospheric lowest level temperature:\\t {atm_mean_prof.t[0].values}\\nMean of the ocean highest level temperature:\\t {ocn_mean_prof.isel(time=0).temp[0].values+273.15}')"
      ],
      "metadata": {
        "id": "3Sxuad6cR2Wy"
      },
      "execution_count": null,
      "outputs": []
    },
    {
      "cell_type": "code",
      "source": [],
      "metadata": {
        "id": "0Jzo8pDdSOa2"
      },
      "execution_count": null,
      "outputs": []
    }
  ]
}