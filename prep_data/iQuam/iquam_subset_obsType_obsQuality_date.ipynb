{
  "nbformat": 4,
  "nbformat_minor": 0,
  "metadata": {
    "colab": {
      "provenance": [],
      "mount_file_id": "1jGQQ1m1GouRTtcdIsXLv2iy_0VstVymN",
      "authorship_tag": "ABX9TyN3a1t0HfEroJlQIjWf2odG",
      "include_colab_link": true
    },
    "kernelspec": {
      "name": "python3",
      "display_name": "Python 3"
    },
    "language_info": {
      "name": "python"
    }
  },
  "cells": [
    {
      "cell_type": "markdown",
      "metadata": {
        "id": "view-in-github",
        "colab_type": "text"
      },
      "source": [
        "<a href=\"https://colab.research.google.com/github/sanAkel/ocean-hurricane/blob/main/prep_data/iQuam/iquam_subset_obsType_obsQuality_date.ipynb\" target=\"_parent\"><img src=\"https://colab.research.google.com/assets/colab-badge.svg\" alt=\"Open In Colab\"/></a>"
      ]
    },
    {
      "cell_type": "code",
      "source": [
        "!pip install cartopy"
      ],
      "metadata": {
        "collapsed": true,
        "id": "H1PgBYIxdZaw"
      },
      "execution_count": null,
      "outputs": []
    },
    {
      "cell_type": "code",
      "execution_count": null,
      "metadata": {
        "id": "XRsM5BIaV1f6"
      },
      "outputs": [],
      "source": [
        "import glob as glob\n",
        "\n",
        "import pandas as pd\n",
        "import numpy as np\n",
        "import xarray as xr\n",
        "\n",
        "import matplotlib.pyplot as plt\n",
        "\n",
        "import cartopy.crs as ccrs\n",
        "import cartopy.feature as cfeature\n",
        "from cartopy.mpl.gridliner import LONGITUDE_FORMATTER, LATITUDE_FORMATTER\n",
        "import matplotlib.ticker as mticker"
      ]
    },
    {
      "cell_type": "code",
      "source": [
        "obs_ids = {'ship': 1,\n",
        "          'buoy': 2,\n",
        "          'tMoor': 3,\n",
        "          'cMoor': 4,\n",
        "          'Argo': 5}\n",
        "\n",
        "# Note: Here we'll use buoy and coastal moorings only."
      ],
      "metadata": {
        "id": "58gSLxkUbH24"
      },
      "execution_count": null,
      "outputs": []
    },
    {
      "cell_type": "code",
      "metadata": {
        "id": "fbbc8622"
      },
      "source": [
        "def load_iquam_data(iquam_file_path, obs_ids, obsType):\n",
        "  \"\"\"\n",
        "  Loads iQuam data from a NetCDF file and subsets it based on:\n",
        "  - Observation type.\n",
        "\n",
        "  Args:\n",
        "    iquam_file_path: Path to the iQuam NetCDF file.\n",
        "    obs_ids: Dictionary mapping observation type names to their IDs.\n",
        "    obsType: String representing the desired observation type (e.g., 'buoy').\n",
        "\n",
        "  Returns:\n",
        "    A tuple containing the subsetted data arrays:\n",
        "    (oType_subset, year, month, day, hour, minute, pType, lat, lon, sst, qcFlag)\n",
        "  \"\"\"\n",
        "  ds = xr.open_dataset(iquam_file_path, decode_timedelta=False)\n",
        "\n",
        "  oType = ds.platform_type.values[:]\n",
        "  oType_subset = oType[oType == obs_ids[obsType]]\n",
        "\n",
        "  year = ds.year.values[:][oType == obs_ids[obsType]]\n",
        "  month = ds.month.values[:][oType == obs_ids[obsType]]\n",
        "  day = ds.day.values[:][oType == obs_ids[obsType]]\n",
        "  hour = ds.hour.values[:][oType == obs_ids[obsType]]\n",
        "  minute = ds.minute.values[:][oType == obs_ids[obsType]]\n",
        "\n",
        "  pId = ds.platform_id.values[:][oType == obs_ids[obsType]]\n",
        "\n",
        "  lat = ds.lat.values[:][oType == obs_ids[obsType]]\n",
        "  lon = ds.lon.values[:][oType == obs_ids[obsType]]\n",
        "  sst = ds.sst.values[:][oType == obs_ids[obsType]]\n",
        "  qcFlag = ds.quality_level.values[:][oType == obs_ids[obsType]]\n",
        "\n",
        "  #depth = None\n",
        "  #if obsType == 'Argo':\n",
        "  #depth = ds.depth.values[:][oType == obs_ids[obsType]]\n",
        "\n",
        "  return (oType_subset, year, month, day, hour, minute, pId, lat, lon, sst, qcFlag)"
      ],
      "execution_count": null,
      "outputs": []
    },
    {
      "cell_type": "code",
      "source": [
        "def load_and_subset_iquam_data(obsType, oType, year, month, day, hour, minute, pId, lat, lon, sst, qcFlag, best_quality_value):\n",
        "\n",
        "  mask = qcFlag == best_quality_value\n",
        "\n",
        "  # Apply the mask to all data arrays\n",
        "  oType_filtered = oType[mask]\n",
        "  year_filtered = year[mask]\n",
        "  month_filtered = month[mask]\n",
        "  day_filtered = day[mask]\n",
        "  hour_filtered = hour[mask]\n",
        "  minute_filtered = minute[mask]\n",
        "  pId_filtered = pId[mask]\n",
        "  lat_filtered = lat[mask]\n",
        "  lon_filtered = lon[mask]\n",
        "  sst_filtered = sst[mask]\n",
        "  qcFlag_filtered = qcFlag[mask]\n",
        "\n",
        "  #if obsType == 'Argo':\n",
        "  #depth_filtered = depth[mask]\n",
        "\n",
        "  return (oType_filtered, year_filtered, month_filtered, day_filtered,\n",
        "          hour_filtered, minute_filtered, pId_filtered, lat_filtered,\n",
        "          lon_filtered, sst_filtered, qcFlag_filtered)"
      ],
      "metadata": {
        "id": "1dkJeGudO_Q7"
      },
      "execution_count": null,
      "outputs": []
    },
    {
      "cell_type": "code",
      "source": [
        "def filter_iquam_by_track_date(oType, year, month, day, hour, minute, pId, lat, lon, sst, qcFlag, track_year, track_mon, track_day):\n",
        "    \"\"\"\n",
        "    Filters iQuam data arrays based on the year, month, and day of the hurricane track.\n",
        "\n",
        "    Args:\n",
        "        oType, year, month, day, hour, minute, pType, lat, lon, sst, qcFlag: Data arrays.\n",
        "        track_year, track_mon, track_day: Integer values for the year, month, and day of the track.\n",
        "\n",
        "    Returns:\n",
        "        A tuple containing the filtered data arrays.\n",
        "    \"\"\"\n",
        "    mask = (year == track_year) & (month == track_mon) & (day == track_day)\n",
        "\n",
        "    oType_filtered = oType[mask]\n",
        "    year_filtered = year[mask]\n",
        "    month_filtered = month[mask]\n",
        "    day_filtered = day[mask]\n",
        "    hour_filtered = hour[mask]\n",
        "    minute_filtered = minute[mask]\n",
        "    pId_filtered = pId[mask]\n",
        "    lat_filtered = lat[mask]\n",
        "    lon_filtered = lon[mask]\n",
        "    sst_filtered = sst[mask]\n",
        "    qcFlag_filtered = qcFlag[mask]\n",
        "\n",
        "    return (oType_filtered, year_filtered, month_filtered, day_filtered,\n",
        "            hour_filtered, minute_filtered, pId_filtered, lat_filtered,\n",
        "            lon_filtered, sst_filtered, qcFlag_filtered)"
      ],
      "metadata": {
        "id": "V1zE51JdMJMv"
      },
      "execution_count": null,
      "outputs": []
    },
    {
      "cell_type": "code",
      "source": [
        "# Create a boolean mask based on extent of the storm and return what's within that domain\n",
        "def filter_by_extent(track_lon_min, track_lon_max, track_lat_min, track_lat_max, oType, year, month, day, hour, minute, pId, lon, lat, sst, qcFlag):\n",
        "\n",
        "  mask = (lon > track_lon_min-dlon) & (lon < track_lon_max+dlon) & (lat > track_lat_min-dlat) & (lat < track_lat_max+dlat)\n",
        "\n",
        "  # Apply the above defined mask\n",
        "  filtered_oType = oType[mask]\n",
        "  filtered_year = year[mask]\n",
        "  filtered_month = month[mask]\n",
        "  filtered_day = day[mask]\n",
        "  filtered_hour = hour[mask]\n",
        "  filtered_minute = minute[mask]\n",
        "  filtered_pId = pId[mask]\n",
        "  filtered_lat = lat[mask]\n",
        "  filtered_lon = lon[mask]\n",
        "  filtered_sst = sst[mask]\n",
        "  filtered_qcFlag = qcFlag[mask]\n",
        "\n",
        "  return (filtered_oType, filtered_year, filtered_month, filtered_day,\n",
        "          filtered_hour, filtered_minute, filtered_pId, filtered_lat,\n",
        "          filtered_lon, filtered_sst, filtered_qcFlag)"
      ],
      "metadata": {
        "id": "3AQ8CV_sriRa"
      },
      "execution_count": null,
      "outputs": []
    },
    {
      "cell_type": "markdown",
      "source": [
        "## User inputs"
      ],
      "metadata": {
        "id": "upkgmKH_HUVZ"
      }
    },
    {
      "cell_type": "code",
      "source": [
        "year  = 2024\n",
        "basin = 'north_atlantic'\n",
        "storm = 'MILTON' # 'BERYL' 'HELENE' 'KIRK' 'MILTON'\n",
        "\n",
        "dPath = f'drive/MyDrive/datasets/hurr/{str(year)}/SAT_datasets/'\n",
        "\n",
        "# in-situ SST from iQuam\n",
        "dPath_iquam = \"/content/drive/MyDrive/datasets/iquam/download/\"\n",
        "\n",
        "obsType = 'cMoor' # 'buoy' 'cMoor'\n",
        "use_best_quality = True # Use certain quality of obs?\n",
        "best_quality_value = 5 # Threshold for quality flag\n",
        "\n",
        "dlon, dlat = [1.0, 1.0] # distance (deg) between storm track and obs locations\n",
        "\n",
        "if obsType == 'Argo':\n",
        "  print(f\"{obsType} is not allowed for now.\")"
      ],
      "metadata": {
        "id": "IE5QKrGjWC6X"
      },
      "execution_count": null,
      "outputs": []
    },
    {
      "cell_type": "markdown",
      "source": [
        "## Read hurricane processed track info"
      ],
      "metadata": {
        "id": "sHyteLPNWGJP"
      }
    },
    {
      "cell_type": "code",
      "source": [
        "# track\n",
        "fName_track = dPath + f'{year}_{basin}_{storm}.nc'\n",
        "track = xr.open_dataset(fName_track)\n",
        "\n",
        "track_lon_min, track_lon_max = [track.lon.values.min(), track.lon.values.max()]\n",
        "track_lat_min, track_lat_max = [track.lat.values.min(), track.lat.values.max()]\n",
        "\n",
        "print(f\"{storm} track\\nLon: [{track_lon_min}, {track_lon_max}]\\tLat: [{track_lat_min}, {track_lat_max}]\")"
      ],
      "metadata": {
        "id": "PsBnPWHbWDjN"
      },
      "execution_count": null,
      "outputs": []
    },
    {
      "cell_type": "markdown",
      "source": [
        "## Gather in-situ SST observations from iQuam"
      ],
      "metadata": {
        "id": "YseuWRWhWjLJ"
      }
    },
    {
      "cell_type": "code",
      "source": [
        "daily_track_times = track.time.values[track.time.dt.hour.values == 0]\n",
        "track_year = track.time.dt.year.values\n",
        "\n",
        "for track_time in daily_track_times:\n",
        "  current_date = pd.to_datetime(track_time)\n",
        "  iMon = current_date.month\n",
        "  iDay = current_date.day\n",
        "  #print(f\"Working on {track_year[0]}/{iMon}/{iDay}\")\n",
        "\n",
        "  fStr = dPath_iquam +\\\n",
        "  str(track_year[0]) + str(iMon).zfill(2)\n",
        "  iquam_file = sorted(glob.glob(fStr + \"*.nc\"))\n",
        "  #print(f\"\\nRead matching file:\\n[{iquam_file[0]}]\")\n",
        "\n",
        "  # observations of selected type and selected quality\n",
        "  oType, year, month, day, hour, minute, pId, lat, lon, sst, qcFlag =\\\n",
        "  load_iquam_data(iquam_file[0], obs_ids, obsType)\n",
        "  #print(f\"Full month: {len(oType), len(sst)}\")\n",
        "\n",
        "  if use_best_quality:\n",
        "    oType, year, month, day, hour, minute, pId, lat, lon, sst, qcFlag =\\\n",
        "    load_and_subset_iquam_data(obsType, oType, year, month, day, hour, minute, pId, lat, lon, sst, qcFlag, best_quality_value)\n",
        "    #print(f\"Best quality: {len(oType), len(sst)}\")\n",
        "\n",
        "  oType, year, month, day, hour, minute, pId, lat, lon, sst, qcFlag = filter_iquam_by_track_date(oType, year, month, day, hour, minute, pId, lat, lon, sst, qcFlag, track_year[0], iMon, iDay)\n",
        "\n",
        "  #oType, year, month, day, hour, minute, pId, lat, lon, sst, qcFlag = filter_by_extent(track_lon_min, track_lon_max, track_lat_min, track_lat_max, oType, year, month, day, hour, minute, pId, lat, lon, sst, qcFlag)\n",
        "\n",
        "  if len(sst) > 0:\n",
        "    print(f\"Number of observations on {track_year[0]}/{iMon}/{iDay}\\t: {len(sst)}\")\n",
        "\n",
        "    # Create an xarray Dataset\n",
        "    ds_out = xr.Dataset({\n",
        "        'oType': ('obs', oType),\n",
        "        'year': ('obs', year),\n",
        "        'month': ('obs', month),\n",
        "        'day': ('obs', day),\n",
        "        'hour': ('obs', hour),\n",
        "        'minute': ('obs', minute),\n",
        "        'pId': ('obs', pId),\n",
        "        'lat': ('obs', lat),\n",
        "        'lon': ('obs', lon),\n",
        "        'sst': ('obs', sst),\n",
        "        'qcFlag': ('obs', qcFlag)\n",
        "    },\n",
        "    coords={\n",
        "        'obs': np.arange(len(oType))\n",
        "    })\n",
        "    output_filename = f'{storm}_iquam_{obsType}_{track_year[0]}{iMon:02d}{iDay:02d}.nc'\n",
        "    output_path = dPath + output_filename\n",
        "    ds_out.to_netcdf(output_path)\n",
        "    print(f\"Saved filtered data to {output_path}\")"
      ],
      "metadata": {
        "collapsed": true,
        "id": "0chkOB_to57I"
      },
      "execution_count": null,
      "outputs": []
    },
    {
      "cell_type": "markdown",
      "source": [
        "## Plot"
      ],
      "metadata": {
        "id": "d2SkfqAjb8u8"
      }
    },
    {
      "cell_type": "code",
      "metadata": {
        "id": "9a370b0a"
      },
      "source": [
        "# Get a list of all the generated iquam buoy NetCDF files for the storm\n",
        "iquam_files = sorted(glob.glob(dPath + f'{storm}_iquam_{obsType}_{year}*.nc'))\n",
        "\n",
        "# Create a figure and axes with a PlateCarree projection\n",
        "fig = plt.figure(figsize=(10, 10))\n",
        "ax = fig.add_subplot(1, 1, 1, projection=ccrs.PlateCarree())\n",
        "\n",
        "# Add coastlines and land features\n",
        "ax.coastlines(color='black', linewidth=1)\n",
        "ax.add_feature(cfeature.LAND, edgecolor='black', alpha=0.75)\n",
        "\n",
        "# Plot the storm track\n",
        "ax.plot(track.lon, track.lat, color='k', ls='--', linewidth=2, transform=ccrs.PlateCarree(), label=f'{storm} Track')\n",
        "\n",
        "# Loop through each file and plot the observations\n",
        "for iquam_file in iquam_files:\n",
        "    # Load the data from the NetCDF file\n",
        "    iquam_ds = xr.open_dataset(iquam_file)\n",
        "\n",
        "    # Extract longitude and latitude\n",
        "    lon_data = iquam_ds['lon'].values\n",
        "    lat_data = iquam_ds['lat'].values\n",
        "\n",
        "    # Extract the date from the filename for the legend\n",
        "    legend_label = iquam_file.split('/')[-1].replace(f'{storm}_iquam_{obsType}_', '').replace('.nc', '')\n",
        "\n",
        "    # Scatter plot of the observation locations\n",
        "    ax.scatter(lon_data, lat_data, transform=ccrs.PlateCarree(), s=16, label=legend_label)\n",
        "\n",
        "# Add gridlines\n",
        "gl = ax.gridlines(draw_labels=True, zorder=0)\n",
        "gl.top_labels = False\n",
        "gl.right_labels = False\n",
        "gl.xformatter = LONGITUDE_FORMATTER\n",
        "gl.yformatter = LATITUDE_FORMATTER\n",
        "gl.xlabel_style = {'size': 10}\n",
        "gl.ylabel_style = {'size': 10}\n",
        "\n",
        "# Add a legend\n",
        "ax.legend(ncol=1, loc='upper left', bbox_to_anchor=(1, 1), fontsize=8)\n",
        "\n",
        "# Set plot title\n",
        "plt.title(f'{obsType} observations locations for {storm}')\n",
        "\n",
        "ax.set_extent([track_lon_min-dlon, track_lon_max+dlon, track_lat_min-dlat, track_lat_max+dlat])"
      ],
      "execution_count": null,
      "outputs": []
    },
    {
      "cell_type": "code",
      "source": [],
      "metadata": {
        "id": "bu1aVv1vyVxz"
      },
      "execution_count": null,
      "outputs": []
    }
  ]
}