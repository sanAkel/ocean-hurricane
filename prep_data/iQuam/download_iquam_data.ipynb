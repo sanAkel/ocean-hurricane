{
  "nbformat": 4,
  "nbformat_minor": 0,
  "metadata": {
    "colab": {
      "provenance": [],
      "mount_file_id": "1sNvP0umnVV4AiT9z0LNpwJJnTDvC-3GZ",
      "authorship_tag": "ABX9TyPzUKJN+zD5/QHV9OQuQ/bv",
      "include_colab_link": true
    },
    "kernelspec": {
      "name": "python3",
      "display_name": "Python 3"
    },
    "language_info": {
      "name": "python"
    }
  },
  "cells": [
    {
      "cell_type": "markdown",
      "metadata": {
        "id": "view-in-github",
        "colab_type": "text"
      },
      "source": [
        "<a href=\"https://colab.research.google.com/github/sanAkel/ocean-hurricane/blob/main/prep_data/iQuam/download_iquam_data.ipynb\" target=\"_parent\"><img src=\"https://colab.research.google.com/assets/colab-badge.svg\" alt=\"Open In Colab\"/></a>"
      ]
    },
    {
      "cell_type": "code",
      "execution_count": null,
      "metadata": {
        "id": "L5hNg5qLb_-X"
      },
      "outputs": [],
      "source": [
        "# URL strings change month by month, had to copy/paste manually!\n",
        "\n",
        "urls = ['https://star.nesdis.noaa.gov/pub/socd/sst/iquam/v2.10/202406-STAR-L2i_GHRSST-SST-iQuam-V2.10-v01.0-fv05.0.nc',\\\n",
        "        'https://star.nesdis.noaa.gov/pub/socd/sst/iquam/v2.10/202407-STAR-L2i_GHRSST-SST-iQuam-V2.10-v01.0-fv02.0.nc',\\\n",
        "        'https://star.nesdis.noaa.gov/pub/socd/sst/iquam/v2.10/202408-STAR-L2i_GHRSST-SST-iQuam-V2.10-v01.0-fv02.0.nc',\\\n",
        "        'https://star.nesdis.noaa.gov/pub/socd/sst/iquam/v2.10/202409-STAR-L2i_GHRSST-SST-iQuam-V2.10-v01.0-fv02.0.nc',\\\n",
        "        'https://star.nesdis.noaa.gov/pub/socd/sst/iquam/v2.10/202410-STAR-L2i_GHRSST-SST-iQuam-V2.10-v01.0-fv02.0.nc',\\\n",
        "        'https://star.nesdis.noaa.gov/pub/socd/sst/iquam/v2.10/202411-STAR-L2i_GHRSST-SST-iQuam-V2.10-v01.0-fv01.0.nc']\n",
        "\n",
        "for url in urls:\n",
        "  print(f\"Downloading from:{url}\")\n",
        "  !wget -q $url"
      ]
    },
    {
      "cell_type": "code",
      "source": [
        "oPath = \"drive/MyDrive/datasets/iquam/download/\"\n",
        "!mkdir -p $oPath\n",
        "!mv *.nc $oPath"
      ],
      "metadata": {
        "id": "1CgDDinMerAi"
      },
      "execution_count": null,
      "outputs": []
    },
    {
      "cell_type": "code",
      "source": [
        "!ls drive/MyDrive/datasets/iquam/download/"
      ],
      "metadata": {
        "id": "4317cRoXl-jh"
      },
      "execution_count": null,
      "outputs": []
    }
  ]
}