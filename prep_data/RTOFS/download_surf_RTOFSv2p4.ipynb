{
  "nbformat": 4,
  "nbformat_minor": 0,
  "metadata": {
    "colab": {
      "provenance": [],
      "mount_file_id": "1Km13otm2PRSeTrupi3mavjTbv6Dqe9J6",
      "authorship_tag": "ABX9TyMBabeW1H1Qr8VQWOsNhmXd",
      "include_colab_link": true
    },
    "kernelspec": {
      "name": "python3",
      "display_name": "Python 3"
    },
    "language_info": {
      "name": "python"
    }
  },
  "cells": [
    {
      "cell_type": "markdown",
      "metadata": {
        "id": "view-in-github",
        "colab_type": "text"
      },
      "source": [
        "<a href=\"https://colab.research.google.com/github/sanAkel/ocean-hurricane/blob/main/prep_data/RTOFS/download_surf_RTOFSv2p4.ipynb\" target=\"_parent\"><img src=\"https://colab.research.google.com/assets/colab-badge.svg\" alt=\"Open In Colab\"/></a>"
      ]
    },
    {
      "cell_type": "markdown",
      "source": [
        "## Download RTOFS version 2.4 (`v2p4`) data from [this URL.](https://noaa-nws-rtofs-pds.s3.amazonaws.com/index.html)\n",
        "\n",
        "## For HAFS, [this is the first available MOM6 output.](https://noaa-nws-hafs-pds.s3.amazonaws.com/index.html#hfsa/20240822/00/)"
      ],
      "metadata": {
        "id": "AZ3aEq47bHe2"
      }
    },
    {
      "cell_type": "code",
      "source": [
        "import numpy as np\n",
        "import pandas as pd\n",
        "import xarray as xr"
      ],
      "metadata": {
        "id": "SZq_OoCwhfRy"
      },
      "execution_count": null,
      "outputs": []
    },
    {
      "cell_type": "markdown",
      "source": [
        "### User inputs"
      ],
      "metadata": {
        "id": "KvfL3aJqbw7U"
      }
    },
    {
      "cell_type": "code",
      "source": [
        "system, version = [\"rtofs\", \"v2.4\"]\n",
        "\n",
        "start_date, end_date = [\"20240703\", \"20240717\"]\n",
        "\n",
        "hSkip=1 # skip hour\n",
        "hours = np.arange(0, 25, hSkip)"
      ],
      "metadata": {
        "id": "mqsnEs67guQx"
      },
      "execution_count": null,
      "outputs": []
    },
    {
      "cell_type": "code",
      "source": [
        "if system == \"rtofs\":\n",
        "  bucket = \"noaa-nws-rtofs-pds\"\n",
        "  oPath = f\"drive/MyDrive/datasets/RTOFS/{version}/\"\n",
        "elif system == \"hafs\":\n",
        "  bucket = \"noaa-nws-hafs-pds\"\n",
        "else:\n",
        "  print('UNKNOWN/not yet coded bucket! Fix and try again.')\n",
        "\n",
        "url_base = f\"https://{bucket}.s3.amazonaws.com/{system}.\""
      ],
      "metadata": {
        "id": "TztptTVHdz8a"
      },
      "execution_count": null,
      "outputs": []
    },
    {
      "cell_type": "code",
      "source": [
        "data_dates = pd.date_range(start=start_date, end=end_date)\n",
        "\n",
        "url = \"\"\n",
        "for dd in data_dates:\n",
        "  dSTR = dd.strftime(\"%Y%m%d\")\n",
        "  print(f\"Downloading data for:\\t {dSTR}\")\n",
        "  url = url_base + dd.strftime(\"%Y%m%d\") + \"/\" + system+\"_glo.t00z.\"\n",
        "\n",
        "  !mkdir -p ./{dSTR}\n",
        "  for hr in hours:\n",
        "    if hr == 0:\n",
        "      a_file, b_file = [\"n00.archs.a.tgz\", \"n00.archs.b\"]\n",
        "    else:\n",
        "      a_file, b_file = [\"n-\"+str(hr).zfill(2) + \".archs.a.tgz\",\\\n",
        "                        \"n-\"+str(hr).zfill(2) + \".archs.b\"]\n",
        "    a_file_url = url + a_file\n",
        "    b_file_url = url + b_file\n",
        "\n",
        "    a_file_tar = dd.strftime(\"%Y%m%d\") + \"_\" + a_file\n",
        "    b_file = system+\"_glo.t00z.\" + b_file\n",
        "\n",
        "    #print(a_file_url, b_file_url)\n",
        "    !wget -q $a_file_url -O $a_file_tar\n",
        "    !wget -q $b_file_url -O $b_file\n",
        "\n",
        "    !tar -xzf $a_file_tar -C ./{dSTR}\n",
        "    !mv $b_file ./{dSTR}\n",
        "\n",
        "  !mv ./{dSTR} $oPath\n",
        "  !rm -f *.tgz"
      ],
      "metadata": {
        "collapsed": true,
        "id": "aoqsDiRPbPqC"
      },
      "execution_count": null,
      "outputs": []
    }
  ]
}