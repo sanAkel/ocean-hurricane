{
  "nbformat": 4,
  "nbformat_minor": 0,
  "metadata": {
    "colab": {
      "provenance": [],
      "authorship_tag": "ABX9TyOzsqS+/oHcImMBPlTzOZit",
      "include_colab_link": true
    },
    "kernelspec": {
      "name": "python3",
      "display_name": "Python 3"
    },
    "language_info": {
      "name": "python"
    }
  },
  "cells": [
    {
      "cell_type": "markdown",
      "metadata": {
        "id": "view-in-github",
        "colab_type": "text"
      },
      "source": [
        "<a href=\"https://colab.research.google.com/github/sanAkel/ocean-hurricane/blob/main/compare_SST_GLO12_one_HURR.ipynb\" target=\"_parent\"><img src=\"https://colab.research.google.com/assets/colab-badge.svg\" alt=\"Open In Colab\"/></a>"
      ]
    },
    {
      "cell_type": "markdown",
      "source": [
        "# Compare:\n",
        "- Satellite data product from [OSTIA SST.](https://data.marine.copernicus.eu/product/SST_GLO_SST_L4_NRT_OBSERVATIONS_010_001/services)\n",
        "- Ocean-reanalysis from [Mercator/Glorys12](https://data.marine.copernicus.eu/product/GLOBAL_ANALYSISFORECAST_PHY_001_024/services)\n",
        "- _You_ need to encode `User Inputs`."
      ],
      "metadata": {
        "id": "Fcifu9auCmEP"
      }
    },
    {
      "cell_type": "markdown",
      "source": [
        "### Install modules"
      ],
      "metadata": {
        "id": "1WT2ZWpWDt1m"
      }
    },
    {
      "cell_type": "code",
      "execution_count": null,
      "metadata": {
        "collapsed": true,
        "id": "bUKRaMw5_sb0"
      },
      "outputs": [],
      "source": [
        "!pip install tropycal\n",
        "!pip install copernicusmarine\n",
        "!pip install cartopy"
      ]
    },
    {
      "cell_type": "code",
      "source": [
        "import copernicusmarine\n",
        "from tropycal import tracks\n",
        "import xarray as xr\n",
        "import numpy as np\n",
        "import pandas as pd\n",
        "\n",
        "from PIL import Image\n",
        "import glob as glob\n",
        "\n",
        "import matplotlib.pyplot as plt\n",
        "import matplotlib.ticker as mticker\n",
        "import cartopy.crs as ccrs\n",
        "#import cartopy.feature as cfeature\n",
        "from cartopy.mpl.gridliner import LONGITUDE_FORMATTER, LATITUDE_FORMATTER\n",
        "\n",
        "#%matplotlib inline"
      ],
      "metadata": {
        "id": "M2xGXJGtD1Jy"
      },
      "execution_count": null,
      "outputs": []
    },
    {
      "cell_type": "code",
      "source": [
        "def get_cmems_data(dsetID, vNames, lon_start, lon_end, lat_start, lat_end, time_start, time_end):\n",
        "\n",
        "  data_request = {\"dataset_id\" : dsetID,\n",
        "    \"longitude\" : [lon_start, lon_end],\n",
        "    \"latitude\" : [lat_start, lat_end],\n",
        "    \"time\" : [time_start, time_end],\n",
        "    \"variables\" : vNames}\n",
        "\n",
        "  cms_data =copernicusmarine.open_dataset(\n",
        "    dataset_id = data_request[\"dataset_id\"],\n",
        "    minimum_longitude = data_request[\"longitude\"][0],\n",
        "    maximum_longitude = data_request[\"longitude\"][1],\n",
        "    minimum_latitude = data_request[\"latitude\"][0],\n",
        "    maximum_latitude = data_request[\"latitude\"][1],\n",
        "    start_datetime = data_request[\"time\"][0],\n",
        "    end_datetime = data_request[\"time\"][1],\n",
        "    variables = data_request[\"variables\"])\n",
        "\n",
        "  return cms_data"
      ],
      "metadata": {
        "id": "SdxfjaCtNWSF"
      },
      "execution_count": null,
      "outputs": []
    },
    {
      "cell_type": "markdown",
      "source": [
        "## User Inputs"
      ],
      "metadata": {
        "id": "y0RrFAqOEJJj"
      }
    },
    {
      "cell_type": "code",
      "source": [
        "# Basin and year\n",
        "myBasin = 'north_atlantic'\n",
        "year = 2024\n",
        "hurr_name = \"Milton\"\n",
        "time_delta = 5 # days before/after storm\n",
        "dLon, dLat = [5, 5] # plot extra data outside track bounds (in degrees)\n",
        "skip_plots = 4 # How many time snapshots to plot between start- end of storm\n",
        "\n",
        "vMin, vMax, cMap = [298., 308., 'gist_ncar'] # Gulf of Mexico- custom for GLO12 (reanalysis)\n",
        "\n",
        "var_units = '[K]'\n",
        "track_color = 'k'\n",
        "DPI=300\n",
        "\n",
        "# Copernicus credentials\n",
        "CMEMS_username, CMEMS_passwd = [\"sakella\", \"HbFPyP9M\"]"
      ],
      "metadata": {
        "id": "bzTsCzeJEEc-"
      },
      "execution_count": null,
      "outputs": []
    },
    {
      "cell_type": "markdown",
      "source": [
        "### Dataset specific info (may change with dataset, you need to fill it in carefully by looking up [CMEMS](https://data.marine.copernicus.eu/products))."
      ],
      "metadata": {
        "id": "7OaWM7r6Mf_N"
      }
    },
    {
      "cell_type": "code",
      "source": [
        "# CMEMS dataset IDs\n",
        "dsetID_sst = 'METOFFICE-GLO-SST-L4-NRT-OBS-SST-V2' # OSTIA SST\n",
        "vNames_sst = ['analysed_sst']"
      ],
      "metadata": {
        "id": "looC9Q58MaOD"
      },
      "execution_count": null,
      "outputs": []
    },
    {
      "cell_type": "code",
      "source": [
        "# Reanalysis GLORYS12\n",
        "# https://catalogue.marine.copernicus.eu/documents/PUM/CMEMS-GLO-PUM-001-024.pdf\n",
        "#\n",
        "# Hourly mean surface (2d) fields: cmems_mod_glo_phy_anfc_0.083deg_PT1H-m\n",
        "\n",
        "dset_oras = \"cmems_mod_glo_phy_anfc_0.083deg_PT1H-m\"\n",
        "var_oras = \"thetao\"\n",
        "kelvin_to_degC = 273.15"
      ],
      "metadata": {
        "collapsed": true,
        "id": "5GmIIgqdS2Vw"
      },
      "execution_count": null,
      "outputs": []
    },
    {
      "cell_type": "markdown",
      "source": [
        "## Get hurricane track data"
      ],
      "metadata": {
        "id": "H-IMLgAUEUPx"
      }
    },
    {
      "cell_type": "code",
      "source": [
        "basin = tracks.TrackDataset(basin=myBasin, source='hurdat', include_btk=True, interpolate_data=True)\n",
        "hurr=basin.get_storm((hurr_name, year))\n",
        "track_file = str(year)+'_'+hurr_name+'.nc'\n",
        "hurr.to_xarray().to_netcdf(track_file)\n",
        "print(\"\\nSaved track info for {}, {} to:\\n{}\".format(hurr_name, year, track_file))\n",
        "\n",
        "# Hurricane formation and dissipation dates (yyyymmdd)\n",
        "print(\"Hurricane: {},\\t year: {}\".format(hurr_name, year))\n",
        "print(\"Formed on: {},\\t dissipated on: {}\".\n",
        "format(hurr.time[0].strftime('%Y-%m-%d'), hurr.time[-1].strftime('%Y-%m-%d')))\n",
        "\n",
        "t0 = hurr.time[0] - pd.Timedelta(days=time_delta)\n",
        "t1 = hurr.time[-1] + pd.Timedelta(days=time_delta)\n",
        "\n",
        "print(\"\\nDownloading satellite data between following dates:\")\n",
        "print(t0.strftime('%Y-%m-%d'), \"to\", t1.strftime('%Y-%m-%d'))\n",
        "\n",
        "# We'll read back the saved data (for formatting) and use it here onward\n",
        "hurr=xr.open_dataset(track_file)"
      ],
      "metadata": {
        "id": "90PG1H4iENr1"
      },
      "execution_count": null,
      "outputs": []
    },
    {
      "cell_type": "markdown",
      "source": [
        "## Get satellite data product"
      ],
      "metadata": {
        "id": "FS_M8h6XM6T7"
      }
    },
    {
      "cell_type": "code",
      "source": [
        "# set credentials\n",
        "copernicusmarine.login(username=CMEMS_username, password=CMEMS_passwd)\n",
        "\n",
        "# download satellite data\n",
        "sat_data = get_cmems_data(dsetID_sst, vNames_sst,\n",
        "                        hurr.lon.values.min()-dLon, hurr.lon.values.max()+dLon,\n",
        "                        hurr.lat.values.min()-dLat, hurr.lat.values.max()+dLat,\n",
        "                        t0.strftime('%Y-%m-%d'), t1.strftime('%Y-%m-%d'))\n",
        "\n",
        "sat_data_file = 'OSTIA_L4_' + str(year)+'_'+hurr_name+'.nc'\n",
        "sat_data.to_netcdf(sat_data_file)\n",
        "print(\"\\nSaved satellite data for {}, {} to:\\n{}\".format(hurr_name, year, sat_data_file))"
      ],
      "metadata": {
        "collapsed": true,
        "id": "imJLonwHNDb4"
      },
      "execution_count": null,
      "outputs": []
    },
    {
      "cell_type": "markdown",
      "source": [
        "## Get ocean reanalysis data"
      ],
      "metadata": {
        "id": "6KYYNnXaRQgV"
      }
    },
    {
      "cell_type": "code",
      "source": [
        "lon_s, lon_e = [hurr.lon.values.min()-dLon, hurr.lon.values.max()+dLon]\n",
        "lat_s, lat_e = [hurr.lat.values.min()-dLat, hurr.lat.values.max()+dLat]\n",
        "t_s, t_e = [t0.strftime('%Y-%m-%d'), t1.strftime('%Y-%m-%d')]\n",
        "\n",
        "oras_data_path = 'GLO12_'+ 'sst_' +str(year)+'_'+hurr_name\n",
        "\n",
        "!copernicusmarine subset --dataset-id $dset_oras --username $CMEMS_username --password $CMEMS_passwd -o $oras_data_path --variable $var_oras --minimum-latitude $lat_s --maximum-latitude $lat_e --minimum-longitude $lon_s --maximum-longitude $lon_e --start-datetime $t_s --end-datetime $t_e --service arco-geo-series"
      ],
      "metadata": {
        "collapsed": true,
        "id": "ATgztuR6uNJn"
      },
      "execution_count": null,
      "outputs": []
    },
    {
      "cell_type": "markdown",
      "source": [
        "## Plot will be generated for select time slices\n",
        "- Reanalysis data will be saved for those slices **only**.\n",
        "- Following depends on `skip_plots` (set by user)"
      ],
      "metadata": {
        "id": "NVkrO147b340"
      }
    },
    {
      "cell_type": "code",
      "source": [
        "time_slices_plot = xr.concat([hurr.time[0] - pd.Timedelta(days=time_delta),\n",
        "                    hurr.time[0:-1:skip_plots],\n",
        "                    hurr.time[-1] + pd.Timedelta(days=time_delta)], dim='time')\n",
        "#print(time_slices_plot)"
      ],
      "metadata": {
        "id": "Xwi5B3sdb13c"
      },
      "execution_count": null,
      "outputs": []
    },
    {
      "cell_type": "code",
      "source": [
        "# Subset reanalysis data for the time slices (to plot)\n",
        "oras_full_file = sorted( glob.glob(oras_data_path + \"*/*.nc\"))\n",
        "#print(oras_full_file)\n",
        "\n",
        "ds_oras=xr.open_dataset(oras_full_file[0]).sel(time=time_slices_plot, method='nearest')\n",
        "ds_oras.to_netcdf('subset_' + oras_data_path +'.nc')"
      ],
      "metadata": {
        "id": "uxyV6Tpg3fco"
      },
      "execution_count": null,
      "outputs": []
    },
    {
      "cell_type": "markdown",
      "source": [
        "## Plot OSTIA SST"
      ],
      "metadata": {
        "id": "5U_drzgO6v1h"
      }
    },
    {
      "cell_type": "code",
      "source": [
        "# Create a figure and axes with a specific projection\n",
        "fig, ax_all = plt.subplots(nrows=1, ncols=len(time_slices_plot), sharey=True, figsize=(12, 10), clear=True, subplot_kw={'projection': ccrs.PlateCarree()})\n",
        "\n",
        "for ax, time_plot in zip(ax_all, time_slices_plot):\n",
        "  # Plot the data\n",
        "  im = sat_data[vNames_sst[0]].sel(time=time_plot, method=\"nearest\").plot(ax=ax, transform=ccrs.PlateCarree(), add_colorbar=False, vmin=vMin, vmax=vMax, cmap=cMap)\n",
        "\n",
        "  # Add features like coastlines, gridlines, etc.\n",
        "  ax.coastlines()\n",
        "  ax.gridlines()\n",
        "  ax.set_extent([lon_s, lon_e, lat_s, lat_e])\n",
        "\n",
        "  gl = ax.gridlines(draw_labels=True)\n",
        "  gl.top_labels = False\n",
        "  gl.right_labels = False\n",
        "  gl.xformatter = LONGITUDE_FORMATTER\n",
        "  gl.yformatter = LATITUDE_FORMATTER\n",
        "  gl.xlabel_style = {'size': 2}\n",
        "  gl.ylabel_style = {'size': 2}\n",
        "\n",
        "  # Set the title\n",
        "  date1 = time_plot.values\n",
        "  yyyymmdd = time_plot.values.astype('str').split('T')[0]\n",
        "  ax.set_title('{}'.format(yyyymmdd), fontsize=8)\n",
        "\n",
        "  # Overlay hurricane when it went by\n",
        "  if date1 >= hurr.time[0].values and date1 <= hurr.time[-1].values:\n",
        "      ax.scatter(hurr.sel(time=slice(hurr.time[0], date1)).lon,\\\n",
        "            hurr.sel(time=slice(hurr.time[0], date1)).lat,\\\n",
        "            s=hurr.sel(time=slice(hurr.time[0], date1)).vmax/10., marker='x', c=track_color, alpha=0.4, transform=ccrs.PlateCarree())\n",
        "\n",
        "# add separate colorbar- deliberately suppress it for visual appeal\n",
        "cax = fig.add_axes([0.91, 0.45, 0.01, 0.1]) # Create an inset axes\n",
        "cb = plt.colorbar(im, cax, ticks=np.arange(vMin, vMax, (vMax-vMin)/10), shrink=0.5)\n",
        "cb.ax.tick_params(labelsize=6)\n",
        "cb.ax.set_xlabel(var_units, fontsize=12)\n",
        "\n",
        "# save figure\n",
        "figName = hurr_name + str(year) + '_ostia_sst.png'\n",
        "plt.savefig(figName, dpi=DPI, bbox_inches='tight')"
      ],
      "metadata": {
        "id": "TomVmwWI9YBR"
      },
      "execution_count": null,
      "outputs": []
    },
    {
      "cell_type": "markdown",
      "source": [
        "## Plot reanalysis SST"
      ],
      "metadata": {
        "id": "K1L_6CBtyy7H"
      }
    },
    {
      "cell_type": "code",
      "source": [
        "# Create a figure and axes with a specific projection\n",
        "fig, ax_all = plt.subplots(nrows=1, ncols=len(time_slices_plot), sharey=True, figsize=(12, 10), clear=True, subplot_kw={'projection': ccrs.PlateCarree()})\n",
        "\n",
        "for ax, time_plot in zip(ax_all, time_slices_plot):\n",
        "  # Plot the data\n",
        "  im = (ds_oras[var_oras]+kelvin_to_degC).sel(time=time_plot, method=\"nearest\").plot(ax=ax, transform=ccrs.PlateCarree(), add_colorbar=False,\\\n",
        "  vmin=vMin, vmax=vMax, cmap=cMap)\n",
        "\n",
        "  # Add features like coastlines, gridlines, etc.\n",
        "  ax.coastlines()\n",
        "  ax.gridlines()\n",
        "  ax.set_extent([lon_s, lon_e, lat_s, lat_e])\n",
        "\n",
        "  gl = ax.gridlines(draw_labels=True)\n",
        "  gl.top_labels = False\n",
        "  gl.right_labels = False\n",
        "  gl.xformatter = LONGITUDE_FORMATTER\n",
        "  gl.yformatter = LATITUDE_FORMATTER\n",
        "  gl.xlabel_style = {'size': 2}\n",
        "  gl.ylabel_style = {'size': 2}\n",
        "\n",
        "  # Set the title\n",
        "  date1 = time_plot.values\n",
        "  yyyymmdd = time_plot.values.astype('str').split('T')[0]\n",
        "  ax.set_title('{}'.format(yyyymmdd), fontsize=8)\n",
        "\n",
        "  # Overlay hurricane when it went by\n",
        "  if date1 >= hurr.time[0].values and date1 <= hurr.time[-1].values:\n",
        "      ax.scatter(hurr.sel(time=slice(hurr.time[0], date1)).lon,\\\n",
        "            hurr.sel(time=slice(hurr.time[0], date1)).lat,\\\n",
        "            s=hurr.sel(time=slice(hurr.time[0], date1)).vmax/10., marker='x', c=track_color, alpha=0.4, transform=ccrs.PlateCarree())\n",
        "\n",
        "# add separate colorbar\n",
        "cax = fig.add_axes([0.91, 0.45, 0.01, 0.1]) # Create an inset axes\n",
        "cb = plt.colorbar(im, cax, ticks=np.arange(vMin, vMax, (vMax-vMin)/10), shrink=0.5)\n",
        "cb.ax.tick_params(labelsize=6)\n",
        "cb.ax.set_xlabel(var_units, fontsize=12)\n",
        "\n",
        "# save figure\n",
        "figName = hurr_name + str(year) + '_GLO12_' + var_oras + '.png'\n",
        "plt.savefig(figName, dpi=DPI, bbox_inches='tight')"
      ],
      "metadata": {
        "id": "eHdHDepNrrFQ"
      },
      "execution_count": null,
      "outputs": []
    },
    {
      "cell_type": "code",
      "source": [],
      "metadata": {
        "id": "EWobuTSQOMGh"
      },
      "execution_count": null,
      "outputs": []
    }
  ]
}