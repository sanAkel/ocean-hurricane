{
  "nbformat": 4,
  "nbformat_minor": 0,
  "metadata": {
    "colab": {
      "provenance": [],
      "authorship_tag": "ABX9TyMjuvF3t/725eqAHO7NyWWi",
      "include_colab_link": true
    },
    "kernelspec": {
      "name": "python3",
      "display_name": "Python 3"
    },
    "language_info": {
      "name": "python"
    }
  },
  "cells": [
    {
      "cell_type": "markdown",
      "metadata": {
        "id": "view-in-github",
        "colab_type": "text"
      },
      "source": [
        "<a href=\"https://colab.research.google.com/github/sanAkel/ocean-hurricane/blob/main/plot_aviso_fields_hurr_track.ipynb\" target=\"_parent\"><img src=\"https://colab.research.google.com/assets/colab-badge.svg\" alt=\"Open In Colab\"/></a>"
      ]
    },
    {
      "cell_type": "markdown",
      "source": [
        "# Plot AVISO:\n",
        "- Geostrophic currents\n",
        "- ADT\n",
        "- SLA\n",
        "\n",
        "# Overlay storm track"
      ],
      "metadata": {
        "id": "ySyHugzSckN6"
      }
    },
    {
      "cell_type": "code",
      "source": [
        "import warnings\n",
        "warnings.filterwarnings('ignore')\n",
        "\n",
        "import xarray as xr\n",
        "import numpy as np\n",
        "import pandas as pd\n",
        "\n",
        "import matplotlib.pyplot as plt\n",
        "%matplotlib inline"
      ],
      "metadata": {
        "id": "YqLVIsDQcfYv"
      },
      "execution_count": null,
      "outputs": []
    },
    {
      "cell_type": "code",
      "source": [
        "!pip install cartopy"
      ],
      "metadata": {
        "id": "LPVGvF6PfXR1"
      },
      "execution_count": null,
      "outputs": []
    },
    {
      "cell_type": "code",
      "source": [
        "import cartopy.crs as ccrs"
      ],
      "metadata": {
        "id": "1fQa_w2Fh9Tg"
      },
      "execution_count": null,
      "outputs": []
    },
    {
      "cell_type": "code",
      "source": [
        "# mount drive\n",
        "from google.colab import drive\n",
        "drive.mount('/content/drive')"
      ],
      "metadata": {
        "id": "h-xGbghocq7o"
      },
      "execution_count": null,
      "outputs": []
    },
    {
      "cell_type": "code",
      "source": [
        "def plot_aviso_var_track(ds_track, ds_aviso, year, hurr_name, vName=\"U\", DPI=120):\n",
        "  nSubplots = len(ds_aviso.time)\n",
        "  #print(nSubplots)\n",
        "  nRows = int(np.ceil(nSubplots/4))\n",
        "\n",
        "  if vName == \"U\":\n",
        "    vMin, vMax, cMap = [0., 1., \"Blues\"]\n",
        "    track_color = 'r'\n",
        "  elif vName == \"adt\":\n",
        "    vMin, vMax, cMap = [-1., 1., \"gist_ncar\"]\n",
        "    track_color = 'k'\n",
        "  elif vName == \"sla\":\n",
        "    vMin, vMax, cMap = [-1., 1., \"bwr\"]\n",
        "    track_color = 'k'\n",
        "\n",
        "  fig=plt.figure(figsize=(12, 10))\n",
        "  for iPlot in range(0, nSubplots):\n",
        "\n",
        "    date1 = ds_aviso.time[iPlot].values\n",
        "    title_str=date1.astype(str).split('T')[0]\n",
        "    #print(title_str)\n",
        "\n",
        "    ax=plt.subplot(nRows, 4, iPlot+1, projection=ccrs.PlateCarree())\n",
        "    ax.coastlines()\n",
        "\n",
        "    ds_aviso[vName].isel(time=iPlot).sel(latitude=slice(ds_track.lat.min().values-10, ds_track.lat.max().values+10),\\\n",
        "                         longitude=slice(ds_track.lon.min().values-10, ds_track.lon.max().values+10)).\\\n",
        "    plot(ax=ax, vmin=vMin, vmax=vMax, cmap=cMap, add_colorbar=False, transform=ccrs.PlateCarree())\n",
        "    ax.set_title(title_str)\n",
        "\n",
        "    if date1 >= ds_track.time[0].values and date1 <= ds_track.time[-1].values:\n",
        "      #print(date1)\n",
        "      #ax.plot(ds_track.lon, ds_track.lat, ls='--', c='r', transform=ccrs.PlateCarree())\n",
        "      ax.scatter(ds_track.sel(time=slice(ds_track.time[0], date1)).lon,\\\n",
        "            ds_track.sel(time=slice(ds_track.time[0], date1)).lat,\\\n",
        "            s=8, marker='+', c=track_color, transform=ccrs.PlateCarree())\n",
        "\n",
        "  plt.subplots_adjust(wspace=0.01, hspace=-0.4)\n",
        "  figName = str(year) + '_' + hurr_name + '_aviso_' + vName + '.png'\n",
        "  plt.savefig(figName, dpi=DPI)\n",
        "  plt.close('all')"
      ],
      "metadata": {
        "id": "AX01Yjl2pb6U"
      },
      "execution_count": null,
      "outputs": []
    },
    {
      "cell_type": "markdown",
      "source": [
        "## User inputs"
      ],
      "metadata": {
        "id": "uAr8O-0Hc302"
      }
    },
    {
      "cell_type": "code",
      "source": [
        "year=2024\n",
        "myBasin='north_atlantic'\n",
        "cat_threshold = 4\n",
        "\n",
        "data_path = '/content/drive/MyDrive/datasets/hurr/'"
      ],
      "metadata": {
        "id": "RR6cEg0ictUf"
      },
      "execution_count": null,
      "outputs": []
    },
    {
      "cell_type": "markdown",
      "source": [
        "## Plot all (major) storms of chosen year"
      ],
      "metadata": {
        "id": "-Dviqhl6c5xU"
      }
    },
    {
      "cell_type": "code",
      "source": [
        "track_summ_fName = data_path + '{}/'.format(year) + 'hurdat2_{}_{}.csv'.format(myBasin, year)\n",
        "#print(\"Reading {} summary data from:\\n{}\".format(year, track_summ_fName))\n",
        "\n",
        "season_data=pd.read_csv(track_summ_fName)\n",
        "major_hurr_names = season_data['name'][season_data['category'] >=cat_threshold]\n",
        "\n",
        "for hurr_name in major_hurr_names:\n",
        "  print(hurr_name)\n",
        "\n",
        "  track_fName = \"{}/{}/{}_{}_{}.nc\".format(data_path, str(year), str(year), myBasin, hurr_name)\n",
        "  aviso_fName = \"{}/{}/{}_{}_{}_AVISO_L4.nc\".format(data_path, str(year), str(year), myBasin, hurr_name)\n",
        "  #print(\"{}\\n{}\".format(track_fName, aviso_fName))\n",
        "  ds_track = xr.open_dataset(track_fName)\n",
        "  ds_aviso = xr.open_dataset(aviso_fName)\n",
        "\n",
        "  U = np.sqrt(ds_aviso.ugos**2 + ds_aviso.vgos**2)\n",
        "  ds_aviso['U'] = U\n",
        "\n",
        "  for vName in ['U', 'adt', 'sla']:\n",
        "    plot_aviso_var_track(ds_track, ds_aviso, year, hurr_name, vName)"
      ],
      "metadata": {
        "id": "GKmr5ctVc-Wa"
      },
      "execution_count": null,
      "outputs": []
    },
    {
      "cell_type": "code",
      "source": [
        "fig_dir = '/content/drive/MyDrive/datasets/hurr/' + 'aviso_fields_storm_track_{}'.format(year)\n",
        "\n",
        "!mkdir -p $fig_dir\n",
        "!mv *.png $fig_dir"
      ],
      "metadata": {
        "id": "qeUOhTk0udGT"
      },
      "execution_count": null,
      "outputs": []
    }
  ]
}