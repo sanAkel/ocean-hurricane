{
  "nbformat": 4,
  "nbformat_minor": 0,
  "metadata": {
    "colab": {
      "provenance": [],
      "authorship_tag": "ABX9TyP2a4f3Tnjn/vGPYrhGfI9e",
      "include_colab_link": true
    },
    "kernelspec": {
      "name": "python3",
      "display_name": "Python 3"
    },
    "language_info": {
      "name": "python"
    }
  },
  "cells": [
    {
      "cell_type": "markdown",
      "metadata": {
        "id": "view-in-github",
        "colab_type": "text"
      },
      "source": [
        "<a href=\"https://colab.research.google.com/github/sanAkel/ocean-hurricane/blob/main/plot_aviso_fields_at_min_SLP.ipynb\" target=\"_parent\"><img src=\"https://colab.research.google.com/assets/colab-badge.svg\" alt=\"Open In Colab\"/></a>"
      ]
    },
    {
      "cell_type": "markdown",
      "source": [
        "# Plot AVISO:\n",
        "- Geostrophic currents\n",
        "- ADT\n",
        "- SLA\n",
        "\n",
        "## At the location and date of minimum sea level pressure\n",
        "- If the min SLP was sustrained for more than one time instance, we plot the first occurrence."
      ],
      "metadata": {
        "id": "ySyHugzSckN6"
      }
    },
    {
      "cell_type": "code",
      "source": [
        "import warnings\n",
        "warnings.filterwarnings('ignore')\n",
        "\n",
        "import xarray as xr\n",
        "import numpy as np\n",
        "import pandas as pd\n",
        "\n",
        "import matplotlib.pyplot as plt\n",
        "%matplotlib inline"
      ],
      "metadata": {
        "id": "YqLVIsDQcfYv"
      },
      "execution_count": null,
      "outputs": []
    },
    {
      "cell_type": "code",
      "source": [
        "def plot_high_inten(data_path, hurr_name, loc_to_save, dLat=10, dLon=10):\n",
        "\n",
        "    track_fName = \"{}/{}/{}_{}_{}.nc\".format(data_path, str(year), str(year), myBasin, hurr_name)\n",
        "    aviso_fName = \"{}/{}/{}_{}_{}_AVISO_L4.nc\".format(data_path, str(year), str(year), myBasin, hurr_name)\n",
        "    #print(\"{}\\n{}\".format(track_fName, aviso_fName))\n",
        "    ds_track = xr.open_dataset(track_fName)\n",
        "    ds_aviso = xr.open_dataset(aviso_fName)\n",
        "\n",
        "    U = np.sqrt(ds_aviso.ugos**2+ds_aviso.vgos**2)\n",
        "\n",
        "    # Date of minimum MSLP/highest intensity\n",
        "    tMin=ds_track.mslp.where(ds_track.mslp==ds_track.mslp.min(), drop=True).time.values[0]\n",
        "    print(\"Min MSLP at: {}\".format(tMin))\n",
        "    latMin, lonMin = [ds_track.sel(time=tMin).lat.values, ds_track.sel(time=tMin).lon.values]\n",
        "    print(\"Min SLP at: [lat, lon]=\\t{}\\t{}\".format(latMin, lonMin))\n",
        "\n",
        "    lat_start, lat_end = latMin-dLat, latMin+dLat\n",
        "    lon_start, lon_end = lonMin-dLon, lonMin+dLon\n",
        "    #print(lat_start, lat_end, lon_start, lon_end)\n",
        "\n",
        "    fig=plt.figure(figsize=(16, 4))\n",
        "\n",
        "    ax1=plt.subplot(131)\n",
        "    U.sel(time=tMin, method=\"nearest\").sel(latitude=slice(lat_start, lat_end), longitude=slice(lon_start, lon_end)).\\\n",
        "    plot(ax=ax1, cmap=plt.cm.Blues, add_colorbar=True, cbar_kwargs={'pad':0.01, 'label':\"Geostrophic current speed [m/s]\"})\n",
        "    plt.scatter(ds_track.lon, ds_track.lat, s=ds_track.vmax/5., c='g', marker='o', edgecolor=None)\n",
        "    plt.plot(lonMin, latMin, 'g*', ms=12), plt.title(\"\") #plt.title(\"{}\".format(tMin))\n",
        "    plt.text(lon_start, lat_end-1, \"(a)\")\n",
        "\n",
        "    ax2=plt.subplot(132)\n",
        "    ds_aviso.adt.sel(time=tMin, method=\"nearest\").sel(latitude=slice(lat_start, lat_end), longitude=slice(lon_start, lon_end)).\\\n",
        "    plot(ax=ax2, cmap=plt.cm.Spectral_r, add_colorbar=True, cbar_kwargs={'pad':0.01, 'label':\"ADT [m]\"})\n",
        "    plt.scatter(ds_track.lon, ds_track.lat, s=ds_track.vmax/5., c='g', marker='o', edgecolor=None)\n",
        "    plt.plot(lonMin, latMin, 'g*', ms=12), plt.title(\"\")\n",
        "    ax2.set_ylabel(\"\")\n",
        "    plt.text(lon_start, lat_end-1, \"(b)\")\n",
        "\n",
        "    ax3=plt.subplot(133)\n",
        "    ds_aviso.sla.sel(time=tMin, method=\"nearest\").sel(latitude=slice(lat_start, lat_end), longitude=slice(lon_start, lon_end)).\\\n",
        "    plot(ax=ax3, cmap=plt.cm.bwr, add_colorbar=True, cbar_kwargs={'pad':0.01, 'label':\"SLA [m]\"})\n",
        "    plt.scatter(ds_track.lon, ds_track.lat, s=ds_track.vmax/5., c='g', marker='o', edgecolor=None)\n",
        "    plt.plot(lonMin, latMin, 'g*', ms=12), plt.title(\"\")\n",
        "    ax3.set_ylabel(\"\")\n",
        "    plt.text(lon_start, lat_end-1, \"(c)\")\n",
        "\n",
        "    plt.tight_layout()\n",
        "\n",
        "    figName= loc_to_save + 'high_intensity_{}_{}.png'.format(str(year), hurr_name)\n",
        "    plt.savefig(figName, dpi=120)\n",
        "    plt.close(\"all\")\n",
        "\n",
        "    del ds_track, ds_aviso"
      ],
      "metadata": {
        "id": "jfKEVx7YcqXn"
      },
      "execution_count": null,
      "outputs": []
    },
    {
      "cell_type": "code",
      "source": [
        "# mount drive\n",
        "from google.colab import drive\n",
        "drive.mount('/content/drive')"
      ],
      "metadata": {
        "id": "h-xGbghocq7o"
      },
      "execution_count": null,
      "outputs": []
    },
    {
      "cell_type": "markdown",
      "source": [
        "## User inputs"
      ],
      "metadata": {
        "id": "uAr8O-0Hc302"
      }
    },
    {
      "cell_type": "code",
      "source": [
        "year=2024\n",
        "myBasin='north_atlantic'\n",
        "cat_threshold = 4\n",
        "\n",
        "data_path = '/content/drive/MyDrive/datasets/hurr/'"
      ],
      "metadata": {
        "id": "RR6cEg0ictUf"
      },
      "execution_count": null,
      "outputs": []
    },
    {
      "cell_type": "markdown",
      "source": [
        "## Plot all (major) storms of chosen year"
      ],
      "metadata": {
        "id": "-Dviqhl6c5xU"
      }
    },
    {
      "cell_type": "code",
      "source": [
        "track_summ_fName = data_path + '{}/'.format(year) + 'hurdat2_{}_{}.csv'.format(myBasin, year)\n",
        "print(\"Reading {} summary data from:\\n{}\".format(year, track_summ_fName))\n",
        "\n",
        "season_data=pd.read_csv(track_summ_fName)\n",
        "major_hurr_names = season_data['name'][season_data['category'] >=cat_threshold]\n",
        "\n",
        "for hurr_name in major_hurr_names:\n",
        "  print(hurr_name)\n",
        "  plot_high_inten(data_path, hurr_name, loc_to_save=data_path, dLat=10, dLon=10)"
      ],
      "metadata": {
        "id": "GKmr5ctVc-Wa"
      },
      "execution_count": null,
      "outputs": []
    },
    {
      "cell_type": "code",
      "source": [],
      "metadata": {
        "id": "YNwxOLZMrEXB"
      },
      "execution_count": null,
      "outputs": []
    }
  ]
}