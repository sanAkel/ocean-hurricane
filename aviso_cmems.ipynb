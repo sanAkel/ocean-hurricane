{
  "nbformat": 4,
  "nbformat_minor": 0,
  "metadata": {
    "colab": {
      "provenance": [],
      "mount_file_id": "1jqAxpZvfeflfMZ2V-ZuKkkItSTP-vo5O",
      "authorship_tag": "ABX9TyPxMH1Z0Xesk5r++D39U1VY",
      "include_colab_link": true
    },
    "kernelspec": {
      "name": "python3",
      "display_name": "Python 3"
    },
    "language_info": {
      "name": "python"
    }
  },
  "cells": [
    {
      "cell_type": "markdown",
      "metadata": {
        "id": "view-in-github",
        "colab_type": "text"
      },
      "source": [
        "<a href=\"https://colab.research.google.com/github/sanAkel/ocean-hurricane/blob/main/aviso_cmems.ipynb\" target=\"_parent\"><img src=\"https://colab.research.google.com/assets/colab-badge.svg\" alt=\"Open In Colab\"/></a>"
      ]
    },
    {
      "cell_type": "markdown",
      "source": [
        "# To download (L4) SSH data from [AVISO/CMEMS.](https://data.marine.copernicus.eu/products?facets=mainVariables%7ESea+surface+height--areas%7EGlobal+Ocean--tempResolutions%7EDaily--sources%7ESatellite+observations)"
      ],
      "metadata": {
        "id": "K2V5pOe1G4fZ"
      }
    },
    {
      "cell_type": "code",
      "source": [
        "# User inputs, should be consistent with those in:\n",
        "# https://github.com/sanAkel/ocean-hurricane/blob/main/get_track.ipynb\n",
        "\n",
        "# Basin, year and category\n",
        "myBasin = 'north_atlantic'\n",
        "year = 2021\n",
        "cat_threshold = 4\n",
        "\n",
        "day_buffer = 2 # extract CMEMS data hurricane start day-day_buffer --> end day+day_buffer"
      ],
      "metadata": {
        "id": "3mBGWzrW6bgG"
      },
      "execution_count": null,
      "outputs": []
    },
    {
      "cell_type": "code",
      "source": [
        "if year < 2022:\n",
        "  dsetID = \"c3s_obs-sl_glo_phy-ssh_my_twosat-l4-duacs-0.25deg_P1D\"\n",
        "  vNames = [\"adt\", \"sla\", \"err_sla\", \"ugos\", \"vgos\"]\n",
        "else:\n",
        "  dsetID = \"cmems_obs-sl_glo_phy-ssh_nrt_allsat-l4-duacs-0.25deg_P1D\"\n",
        "  vNames = [\"adt\", \"sla\", \"err_sla\", \"ugos\", \"vgos\"]"
      ],
      "metadata": {
        "id": "yl6nmf7RGWK2"
      },
      "execution_count": null,
      "outputs": []
    },
    {
      "cell_type": "markdown",
      "source": [
        "## Install API"
      ],
      "metadata": {
        "id": "RXa_eAj1CUsi"
      }
    },
    {
      "cell_type": "code",
      "source": [
        "!pip install copernicusmarine"
      ],
      "metadata": {
        "id": "VQRwtOADHFcJ"
      },
      "execution_count": null,
      "outputs": []
    },
    {
      "cell_type": "code",
      "source": [
        "!pip install cartopy"
      ],
      "metadata": {
        "id": "A5VdRgwa8DGW"
      },
      "execution_count": null,
      "outputs": []
    },
    {
      "cell_type": "code",
      "source": [
        "import copernicusmarine\n",
        "\n",
        "import pandas as pd\n",
        "import numpy as np\n",
        "import xarray as xr\n",
        "\n",
        "import cartopy.crs as ccrs\n",
        "import cartopy.feature as cfeature\n",
        "\n",
        "import glob as glob\n",
        "\n",
        "import matplotlib.pyplot as plt\n",
        "%matplotlib inline\n",
        "\n",
        "import warnings\n",
        "warnings.filterwarnings(\"ignore\")"
      ],
      "metadata": {
        "id": "YwHsRuNFHtuM"
      },
      "execution_count": null,
      "outputs": []
    },
    {
      "cell_type": "markdown",
      "source": [
        "## Set up environment for the [Copernicus Marine Toolbox.](https://help.marine.copernicus.eu/en/articles/7949409-copernicus-marine-toolbox-introduction)"
      ],
      "metadata": {
        "id": "d87Ne-zoI_X0"
      }
    },
    {
      "cell_type": "code",
      "source": [
        "print(copernicusmarine.__version__)\n",
        "copernicusmarine.login(username=\"sakella\", password=\"HbFPyP9M\")"
      ],
      "metadata": {
        "id": "8g2s-YxKJDFm"
      },
      "execution_count": null,
      "outputs": []
    },
    {
      "cell_type": "code",
      "source": [
        "# Copernicus marine dataset\n",
        "# 1992- 2023 (reprocessed): https://data.marine.copernicus.eu/product/SEALEVEL_GLO_PHY_CLIMATE_L4_MY_008_057/description\n",
        "# Choose: c3s_obs-sl_glo_phy-ssh_my_twosat-l4-duacs-0.25deg_P1D,\n",
        "# not `c3s_obs-sl_glo_phy-ssh_myint_twosat-l4-duacs-0.25deg_P1D` which has last 1 month.\n",
        "#\n",
        "# 2021- present: https://data.marine.copernicus.eu/product/SEALEVEL_GLO_PHY_L4_NRT_008_046/description\n",
        "# ----\n",
        "# Which ocean dataset to read?\n",
        "# Hourly mean surface (2d) fields: cmems_mod_glo_phy_anfc_0.083deg_PT1H-m\n",
        "# Instantaneous (inst) 6-hourly 3d potential temperature: cmems_mod_glo_phy-thetao_anfc_0.083deg_PT6H-i\n",
        "# inst 6hr 3d salinity: cmems_mod_glo_phy-so_anfc_0.083deg_PT6H-i\n",
        "# inst 6hr 3d currents: cmems_mod_glo_phy-cur_anfc_0.083deg_PT6H-i\n",
        "# ----\n",
        "\n",
        "# Set parameters\n",
        "data_request = {\n",
        "    \"dataset_id\" : dsetID,\n",
        "    \"longitude\" : [-180, 180],\n",
        "    \"latitude\" : [-80, 90],\n",
        "    \"variables\" : vNames\n",
        "}"
      ],
      "metadata": {
        "id": "jLdwkntmTP19"
      },
      "execution_count": null,
      "outputs": []
    },
    {
      "cell_type": "code",
      "source": [
        "cms_data =copernicusmarine.open_dataset(\n",
        "    dataset_id = data_request[\"dataset_id\"],\n",
        "    minimum_longitude = data_request[\"longitude\"][0],\n",
        "    maximum_longitude = data_request[\"longitude\"][1],\n",
        "    minimum_latitude = data_request[\"latitude\"][0],\n",
        "    maximum_latitude = data_request[\"latitude\"][1],\n",
        "    variables = data_request[\"variables\"]\n",
        ")"
      ],
      "metadata": {
        "id": "4cNsF3rLyEVx"
      },
      "execution_count": null,
      "outputs": []
    },
    {
      "cell_type": "markdown",
      "source": [
        "## Read the processed/downloaded hurricane data. It was generated using [this notebook.](https://github.com/sanAkel/ocean-hurricane/blob/main/get_track.ipynb)"
      ],
      "metadata": {
        "id": "YOlM7mRC5tk4"
      }
    },
    {
      "cell_type": "code",
      "source": [
        "# Mount drive - to save files once done\n",
        "from google.colab import drive\n",
        "drive.mount('/content/drive')"
      ],
      "metadata": {
        "id": "xsQN5ryC57wO"
      },
      "execution_count": null,
      "outputs": []
    },
    {
      "cell_type": "code",
      "source": [
        "# Read downloaded track data, subset and save CMEMS data for the hurricane dates\n",
        "input_data_path = '/content/drive/MyDrive/datasets/hurr/{}/'.format(year)\n",
        "input_fName = input_data_path + 'hurdat2_{}_{}.csv'.format(myBasin, year)\n",
        "print(\"Reading {} summary data from:\\n{}\".format(year, input_fName))\n",
        "\n",
        "season_data=pd.read_csv(input_fName)\n",
        "major_hurr_names = season_data['name'][season_data['category'] >=cat_threshold]\n",
        "major_hurr_ids = season_data['id'][season_data['category'] >=cat_threshold]\n",
        "\n",
        "print(\"\\n\\nStorms that had a category >= {} are following:\\n\".format(cat_threshold))\n",
        "#for hurr in major_hurr_names:\n",
        "#    print(hurr)\n",
        "\n",
        "# Read storm data\n",
        "for idx, hurr_id in enumerate(major_hurr_ids):\n",
        "    print(\"{}, ID: [{}]\".format(major_hurr_names.iloc[idx], hurr_id))\n",
        "    input_hurr_file = str(year) + \"_\" + myBasin + \"_\" + major_hurr_names.iloc[idx] + '.nc'\n",
        "    print(\"Processed file name:\\t{}\".format(input_data_path + input_hurr_file))\n",
        "    track_ds = xr.open_dataset(input_data_path + input_hurr_file)\n",
        "    print(\"Start and end days:\\n{}--\\t{}.\\n\".format(track_ds.time[0].values, track_ds.time[-1].values))\n",
        "\n",
        "    ts, te = [track_ds.time[0].values- np.timedelta64(day_buffer, 'D'), track_ds.time[-1].values + np.timedelta64(day_buffer, 'D')]\n",
        "    hurr_subset=cms_data.sel(time=slice(ts, te))\n",
        "\n",
        "    output_hurr_file = str(year) + \"_\" + myBasin + \"_\" + major_hurr_names.iloc[idx] + '_AVISO_L4.nc'\n",
        "    print(\"Output file name:\\t{}\\n\\n\".format(input_data_path + output_hurr_file))\n",
        "    hurr_subset.to_netcdf(input_data_path + output_hurr_file)"
      ],
      "metadata": {
        "id": "W1xSnPQf6LAU"
      },
      "execution_count": null,
      "outputs": []
    }
  ]
}