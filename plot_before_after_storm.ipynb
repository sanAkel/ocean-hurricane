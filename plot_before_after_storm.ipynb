{
  "nbformat": 4,
  "nbformat_minor": 0,
  "metadata": {
    "colab": {
      "provenance": [],
      "authorship_tag": "ABX9TyPBufxA4bCuTGYVMpWAAjmW",
      "include_colab_link": true
    },
    "kernelspec": {
      "name": "python3",
      "display_name": "Python 3"
    },
    "language_info": {
      "name": "python"
    }
  },
  "cells": [
    {
      "cell_type": "markdown",
      "metadata": {
        "id": "view-in-github",
        "colab_type": "text"
      },
      "source": [
        "<a href=\"https://colab.research.google.com/github/sanAkel/ocean-hurricane/blob/main/plot_before_after_storm.ipynb\" target=\"_parent\"><img src=\"https://colab.research.google.com/assets/colab-badge.svg\" alt=\"Open In Colab\"/></a>"
      ]
    },
    {
      "cell_type": "code",
      "source": [
        "!pip install cartopy"
      ],
      "metadata": {
        "collapsed": true,
        "id": "gz1iCMRB-Wkt"
      },
      "execution_count": null,
      "outputs": []
    },
    {
      "cell_type": "code",
      "source": [
        "import xarray as xr\n",
        "\n",
        "import cartopy.crs as ccrs\n",
        "import cartopy.feature as cfeature\n",
        "\n",
        "import matplotlib.pyplot as plt\n",
        "\n",
        "#%matplotlib inline"
      ],
      "metadata": {
        "id": "4jzV5vgTJFVd"
      },
      "execution_count": null,
      "outputs": []
    },
    {
      "cell_type": "code",
      "source": [
        "def get_file_name(dt, year, myBasin, hurr_name, fSuff_base = 'GLORYS12.nc'):\n",
        "\n",
        "  input_data_path = '/content/drive/MyDrive/datasets/hurr/{}/'.format(year)\n",
        "  fPref = input_data_path + '{}_{}_{}_'.format(year, myBasin, hurr_name.upper())\n",
        "\n",
        "  if dt == 0:\n",
        "    fSuff = \"\"+ fSuff_base\n",
        "  elif dt > 0:\n",
        "    fSuff = str(abs(dt)).zfill(3) + \"days_after_\" + fSuff_base\n",
        "  elif dt < 0:\n",
        "    fSuff =  str(abs(dt)).zfill(3) + \"days_before_\" + fSuff_base\n",
        "\n",
        "  return (fPref+fSuff)"
      ],
      "metadata": {
        "id": "B1-chuB0tcna"
      },
      "execution_count": null,
      "outputs": []
    },
    {
      "cell_type": "code",
      "source": [
        "# Mount drive - to rw files\n",
        "from google.colab import drive\n",
        "drive.mount('/content/drive')"
      ],
      "metadata": {
        "id": "UxLU-n1x-IIe"
      },
      "execution_count": null,
      "outputs": []
    },
    {
      "cell_type": "markdown",
      "source": [
        "## User Inputs"
      ],
      "metadata": {
        "id": "luB_QgdU_o9a"
      }
    },
    {
      "cell_type": "code",
      "source": [
        "myBasin = 'north_atlantic'\n",
        "year = 2024\n",
        "hurr_name='milton'"
      ],
      "metadata": {
        "id": "p3hkbcbHsgTi"
      },
      "execution_count": null,
      "outputs": []
    },
    {
      "cell_type": "markdown",
      "source": [
        "### Read downloaded track data"
      ],
      "metadata": {
        "id": "5FyMjI0d_t3h"
      }
    },
    {
      "cell_type": "code",
      "source": [
        "input_data_path = '/content/drive/MyDrive/datasets/hurr/{}/'.format(year)\n",
        "print(input_data_path)\n",
        "\n",
        "track_file  = input_data_path + '{}_{}_{}.nc'.format(year, myBasin, hurr_name.upper())\n",
        "ds_track = xr.open_dataset(track_file)"
      ],
      "metadata": {
        "id": "XpljMTVXso4A"
      },
      "execution_count": null,
      "outputs": []
    },
    {
      "cell_type": "markdown",
      "source": [
        "### Plot track and other hurricane info"
      ],
      "metadata": {
        "id": "fiQwfbj0_y3i"
      }
    },
    {
      "cell_type": "code",
      "source": [
        "width, height, DPI = [8, 6, 80]\n",
        "dLon, dLat= [2, 2]\n",
        "#\n",
        "xMin, xMax, yMin, yMax = [ds_track.lon.min()-dLon, ds_track.lon.max()+dLon, ds_track.lat.min()-dLat, ds_track.lat.max()+dLat]\n",
        "\n",
        "# Date of minimum MSLP/highest intensity\n",
        "tMin=ds_track.mslp.where(ds_track.mslp==ds_track.mslp.min(), drop=True).time[0]\n",
        "print(\"Min MSLP {} on: {}\".format(ds_track.mslp.min().values, tMin.values.astype('str').split('T')[0]))\n",
        "latMin, lonMin = [ds_track.sel(time=tMin).lat.values, ds_track.sel(time=tMin).lon.values]\n",
        "print(\"Min SLP at: [lat, lon]=\\t{}\\t{}\".format(latMin, lonMin))\n",
        "#\n",
        "\n",
        "fig = plt.figure(figsize=(width,height), dpi=DPI)\n",
        "\n",
        "ax = plt.axes(projection=ccrs.PlateCarree())\n",
        "ax.coastlines()\n",
        "ax.add_feature(cfeature.LAND, zorder=1, edgecolor='black', facecolor='0.9')\n",
        "ax.set_extent([xMin, xMax, yMin, yMax], crs=ccrs.PlateCarree())\n",
        "\n",
        "im=ds_track.plot.scatter(x='lon', y='lat', ax=ax, transform=ccrs.PlateCarree(), s=ds_track.vmax, c=ds_track.mslp,\n",
        "                         marker='o', edgecolors='none', cmap='plt.cm.gist_ncar')\n",
        "\n",
        "ax.text(ds_track.lon[0].values, ds_track.lat[0].values, \"{}\".format(ds_track.time[0].values.astype(str).split('T')[0]),\n",
        "        transform=ccrs.PlateCarree(), fontsize=8)\n",
        "ax.text(ds_track.lon[-1].values-dLon, ds_track.lat[-1].values, \"{}\".format(ds_track.time[-1].values.astype(str).split('T')[0]),\n",
        "        transform=ccrs.PlateCarree(), fontsize=8)\n",
        "\n",
        "ax.text(lonMin, latMin, \"{}\".format(tMin.values.astype('str').split('T')[0]), transform=ccrs.PlateCarree(), fontsize=16)\n",
        "ax.scatter(lonMin, latMin, s=20, marker='x', c='r', transform=ccrs.PlateCarree())\n",
        "\n",
        "plt.colorbar(im, pad=0.01, shrink=0.6, label='MSLP (hPa)')\n",
        "ax.text(xMin+1, yMax-1, str(year)+\" \"+hurr_name.upper(), transform=ccrs.PlateCarree(), fontsize=12)"
      ],
      "metadata": {
        "id": "Swmm63QM_kKZ"
      },
      "execution_count": null,
      "outputs": []
    },
    {
      "cell_type": "markdown",
      "source": [
        "### Plot before/after storm\n",
        "- AVISO (ADT)\n",
        "- GLORYS12 (SSH)\n",
        "- GLORYS12 (thetao top level)\n",
        "- GLORYS12 (so top level)\n"
      ],
      "metadata": {
        "id": "12Uj5oWDPBsO"
      }
    },
    {
      "cell_type": "code",
      "source": [
        "#!ls /content/drive/MyDrive/datasets/hurr/2024/*MILTON*AVISO*\n",
        "\n",
        "fPref = input_data_path + '{}_{}_{}_'.format(year, myBasin, hurr_name.upper())\n",
        "fSuff_base, vName = ['AVISO.nc', 'adt']\n",
        "#print(fPref)\n",
        "\n",
        "dts = [-5, -1, 0, 1, 5]\n",
        "for dt in dts:\n",
        "  #print(dt)\n",
        "  if dt == 0:\n",
        "    fSuff = \"\"+ fSuff_base\n",
        "  elif dt > 0:\n",
        "    fSuff = str(abs(dt)).zfill(3) + \"days_after_\" + fSuff_base\n",
        "  elif dt < 0:\n",
        "    fSuff =  str(abs(dt)).zfill(3) + \"days_before_\" + fSuff_base\n",
        "\n",
        "  fName=fPref+fSuff\n",
        "  #print(fName)\n",
        "  ds_euler_aviso=xr.open_dataset(fName)\n",
        "  if dt == 0:\n",
        "    ds_euler_aviso[vName].plot(x=\"time\", label=\"dt=\"+str(dt), lw=4)\n",
        "  else:\n",
        "    ds_euler_aviso[vName].plot(x=\"time\", label=\"dt=\"+str(dt))\n",
        "\n",
        "plt.title(\"\")\n",
        "plt.legend(ncols=1)"
      ],
      "metadata": {
        "id": "yX1NFRgPPL3a"
      },
      "execution_count": null,
      "outputs": []
    },
    {
      "cell_type": "code",
      "source": [
        "#!ls /content/drive/MyDrive/datasets/hurr/2024/*MILTON*GLO*\n",
        "\n",
        "fPref = input_data_path + '{}_{}_{}_'.format(year, myBasin, hurr_name.upper())\n",
        "fSuff_base = 'GLORYS12.nc'\n",
        "vNames = ['zos', 'thetao', 'so']\n",
        "#print(fPref)\n",
        "\n",
        "fig, ax_all = plt.subplots(nrows=len(vNames), ncols=1, sharex=True, figsize=(8, 12), clear=True)\n",
        "\n",
        "dts = [-5, -1, 0, 1, 5]\n",
        "for dt in dts:\n",
        "  #print(dt)\n",
        "  if dt == 0:\n",
        "    fSuff = \"\"+ fSuff_base\n",
        "  elif dt > 0:\n",
        "    fSuff = str(abs(dt)).zfill(3) + \"days_after_\" + fSuff_base\n",
        "  elif dt < 0:\n",
        "    fSuff =  str(abs(dt)).zfill(3) + \"days_before_\" + fSuff_base\n",
        "\n",
        "  fName=fPref+fSuff\n",
        "  #print(fName)\n",
        "  ds_euler_glo12=xr.open_dataset(fName)\n",
        "\n",
        "  for ax, vName in zip(ax_all, vNames):\n",
        "\n",
        "    ax.axvline(x=ds_track.mslp.where(ds_track.mslp==ds_track.mslp.min(), drop=True).time,\n",
        "               ls='--', color='k', alpha= 0.5)\n",
        "\n",
        "    if vName == vNames[0]:\n",
        "      ax2 = ax.twinx()\n",
        "      ax2.plot_date(ds_track.time, ds_track.mslp, ls='-', c='k', alpha=0.5)\n",
        "      ax2.set_ylabel('MSLP (hPa)')\n",
        "\n",
        "    if dt == 0:\n",
        "      ds_euler_glo12[vName].isel(depth=0).plot(x=\"time\", label=str(dt)+\" days\", lw=4, ax=ax)\n",
        "    else:\n",
        "      ds_euler_glo12[vName].isel(depth=0).plot(x=\"time\", label=str(dt)+\" days\", lw=2, ax=ax)\n",
        "    ax.set_title(\"\")\n",
        "    ax.legend(ncols=1)"
      ],
      "metadata": {
        "id": "3-ADjp2hJ__c"
      },
      "execution_count": null,
      "outputs": []
    },
    {
      "cell_type": "markdown",
      "source": [
        "## Plot (subsurface) temperature and salinity before/after storm:\n",
        "\n",
        "- [dt= -5] 5 days before.\n",
        "- 1 day before.\n",
        "- Along storm (dt=0).\n",
        "- 1 day after.\n",
        "- 5 days after."
      ],
      "metadata": {
        "id": "FXsJ5V1HerKZ"
      }
    },
    {
      "cell_type": "code",
      "source": [
        "vNames = ['thetao', 'so']\n",
        "temp_cmin, temp_cmax, temp_cmap=[12, 32, 'RdBu_r']\n",
        "salt_cmin, salt_cmax, salt_cmap=[35, 38, 'Spectral_r']\n",
        "\n",
        "for dts in [-5, -1, 0, 1, 5]:\n",
        "  fName=get_file_name(dts, year, myBasin, hurr_name)\n",
        "  print(fName)\n",
        "  ds_euler_glo12=xr.open_dataset(fName)\n",
        "\n",
        "  fig, ax_all = plt.subplots(nrows=1, ncols=len(vNames), sharex=True, figsize=(12, 4), clear=True)\n",
        "  for ax, vName in zip(ax_all, vNames):\n",
        "    if vName == \"thetao\":\n",
        "      im=ds_euler_glo12[vName].sel(depth=slice(0, 500)).plot.contourf(ax=ax, x=\"time\", y=\"depth\", yincrease=False,\n",
        "                                                           vmin=temp_cmin, vmax=temp_cmax, cmap=temp_cmap)\n",
        "    else:\n",
        "      im=ds_euler_glo12[vName].sel(depth=slice(0, 500)).plot.contourf(ax=ax, x=\"time\", y=\"depth\", yincrease=False,\n",
        "                                                           vmin=salt_cmin, vmax=salt_cmax, cmap=salt_cmap)\n",
        "      ax.set_ylabel(\"\")\n",
        "\n",
        "  ax.set_title(\"\")"
      ],
      "metadata": {
        "id": "YlPFJRA6wgf2"
      },
      "execution_count": null,
      "outputs": []
    },
    {
      "cell_type": "code",
      "source": [],
      "metadata": {
        "id": "MpvF_qO0xANZ"
      },
      "execution_count": null,
      "outputs": []
    }
  ]
}