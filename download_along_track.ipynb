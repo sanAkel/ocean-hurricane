{
  "nbformat": 4,
  "nbformat_minor": 0,
  "metadata": {
    "colab": {
      "provenance": [],
      "mount_file_id": "1HoK357eoPi0dyZS2hx5OI235_jcwVysw",
      "authorship_tag": "ABX9TyOGRTqsjSP4/HiNyngin7bE",
      "include_colab_link": true
    },
    "kernelspec": {
      "name": "python3",
      "display_name": "Python 3"
    },
    "language_info": {
      "name": "python"
    }
  },
  "cells": [
    {
      "cell_type": "markdown",
      "metadata": {
        "id": "view-in-github",
        "colab_type": "text"
      },
      "source": [
        "<a href=\"https://colab.research.google.com/github/sanAkel/ocean-hurricane/blob/main/download_along_track.ipynb\" target=\"_parent\"><img src=\"https://colab.research.google.com/assets/colab-badge.svg\" alt=\"Open In Colab\"/></a>"
      ]
    },
    {
      "cell_type": "markdown",
      "source": [
        "# Download following data along TC track:\n",
        "- Mean sea level pressure (MSLP), wind speed from the [NHC Hurtdat](https://www.nhc.noaa.gov/data/#hurdat).\n",
        "- From: [AVISO L4](https://data.marine.copernicus.eu/products?facets=mainVariables%7ESea+surface+height--areas%7EGlobal+Ocean--tempResolutions%7EDaily--sources%7ESatellite+observations):\n",
        "  - Geostrophic currents.\n",
        "  - ADT.\n",
        "  - SLA and error.\n",
        "- From [Mercator GLORYS12](https://data.marine.copernicus.eu/product/GLOBAL_ANALYSISFORECAST_PHY_001_024/description).\n",
        "  - Currents.\n",
        "  - Potential temperature.\n",
        "  - Salinity.\n",
        "  - SSH.\n",
        "\n",
        "Save to a `.nc` file."
      ],
      "metadata": {
        "id": "40KkExD5M1tj"
      }
    },
    {
      "cell_type": "markdown",
      "source": [
        "## User inputs"
      ],
      "metadata": {
        "id": "1LT_hLOrQrXp"
      }
    },
    {
      "cell_type": "code",
      "source": [
        "# Path to data\n",
        "# If not using colab/google drive, modify following data_path_root which has\n",
        "# processed track data or download on the fly, see below note.\n",
        "data_path_root = '/content/drive/MyDrive/' + 'datasets/hurr/'\n",
        "\n",
        "# Basin, year and category\n",
        "myBasin = 'north_atlantic'\n",
        "year = 2017\n",
        "cat_threshold = 4"
      ],
      "metadata": {
        "id": "b2fLOimyP9YG"
      },
      "execution_count": null,
      "outputs": []
    },
    {
      "cell_type": "markdown",
      "source": [
        "### AVISO L4 dataset ID changes across year 2022."
      ],
      "metadata": {
        "id": "ZQV7ehOgfK3X"
      }
    },
    {
      "cell_type": "code",
      "source": [
        "# AVISO L4 dataset id\n",
        "if year < 2022:\n",
        "  dsetID_aviso = \"c3s_obs-sl_glo_phy-ssh_my_twosat-l4-duacs-0.25deg_P1D\"\n",
        "  vNames_aviso = [\"adt\", \"sla\", \"err_sla\", \"ugos\", \"vgos\"]\n",
        "else:\n",
        "  dsetID_aviso = \"cmems_obs-sl_glo_phy-ssh_nrt_allsat-l4-duacs-0.25deg_P1D\"\n",
        "  vNames_aviso = [\"adt\", \"sla\", \"err_sla\", \"ugos\", \"vgos\"]"
      ],
      "metadata": {
        "id": "0_ldkFnpe1T7"
      },
      "execution_count": null,
      "outputs": []
    },
    {
      "cell_type": "markdown",
      "source": [
        "### GLORYS12 dataset does not provide hourly data, changes from daily mean to hourly.\n",
        "See [this notes for details.](https://github.com/sanAkel/ocean-hurricane/blob/main/cmems-api.md)"
      ],
      "metadata": {
        "id": "kxHAnN63l23a"
      }
    },
    {
      "cell_type": "code",
      "source": [
        "if year < 2021:\n",
        "  dsetID_glorys12 = \"cmems_mod_glo_phy_my_0.083deg_P1D-m\"\n",
        "  vNames_glorys12 = [\"thetao\", \"so\", \"uo\", \"vo\", \"zos\"]\n",
        "elif year ==2021: # Handling cat >=4 storms, 2021/08 onwards ok.\n",
        "  dsetID_glorys12 = \"cmems_mod_glo_phy_myint_0.083deg_P1D-m\"\n",
        "  vNames_glorys12 = [\"thetao\", \"so\", \"uo\", \"vo\", \"zos\"]\n",
        "else: # 2022/06 onward, hourly and fields are split across dataSets.\n",
        "\n",
        "  # Surface\n",
        "  dsetID_glorys12_surf = \"cmems_mod_glo_phy_anfc_0.083deg_PT1H-m\"\n",
        "  vNames_glorys12_surf = [\"thetao\", \"so\", \"uo\", \"vo\", \"zos\"]\n",
        "\n",
        "  # 3D\n",
        "  dsetID_glorys12_curr = \"cmems_mod_glo_phy-cur_anfc_0.083deg_PT6H-i\"\n",
        "  vNames_glorys12_curr = [\"uo\", \"vo\"]\n",
        "  dsetID_glorys12_thetao = \"cmems_mod_glo_phy-thetao_anfc_0.083deg_PT6H-i\"\n",
        "  vNames_glorys12_thetao = [\"thetao\"]\n",
        "  dsetID_glorys12_so = \"cmems_mod_glo_phy-so_anfc_0.083deg_PT6H-i\"\n",
        "  vNames_glorys12_so = [\"so\"]"
      ],
      "metadata": {
        "id": "mEL8uLFemQyQ"
      },
      "execution_count": null,
      "outputs": []
    },
    {
      "cell_type": "markdown",
      "source": [
        "### Install [Copernicus Marine Toolbox](https://help.marine.copernicus.eu/en/articles/7949409-copernicus-marine-toolbox-introduction)"
      ],
      "metadata": {
        "id": "AA7TrKT8OSIH"
      }
    },
    {
      "cell_type": "code",
      "source": [
        "!pip install copernicusmarine"
      ],
      "metadata": {
        "collapsed": true,
        "id": "dj18eL7OOYd2"
      },
      "execution_count": null,
      "outputs": []
    },
    {
      "cell_type": "code",
      "source": [
        "import copernicusmarine\n",
        "\n",
        "import pandas as pd\n",
        "import numpy as np\n",
        "import xarray as xr\n",
        "\n",
        "import warnings\n",
        "warnings.filterwarnings(\"ignore\")"
      ],
      "metadata": {
        "id": "ZQALF1LhOhwz"
      },
      "execution_count": null,
      "outputs": []
    },
    {
      "cell_type": "code",
      "source": [
        "# Read downloaded hurricane season (per year) summary data\n",
        "def get_hurr_season_data(data_path_root, year, myBasin, cat_threshold):\n",
        "  track_data_path = data_path_root + '/{}/'.format(year)\n",
        "  track_fName = track_data_path + 'hurdat2_{}_{}.csv'.format(myBasin, year)\n",
        "  print(\"Reading {} summary data from:\\n{}\".format(year, track_fName))\n",
        "  season_data=pd.read_csv(track_fName)\n",
        "  major_hurr_names = season_data['name'][season_data['category'] >=cat_threshold]\n",
        "  major_hurr_ids = season_data['id'][season_data['category'] >=cat_threshold]\n",
        "  return major_hurr_names, major_hurr_ids\n",
        "\n",
        "# Read individual storm track data\n",
        "def get_hurr_data(data_path_root, year, myBasin, hurr_name):\n",
        "  data_path = data_path_root + '/{}/'.format(year)\n",
        "  hurr_file = str(year) + \"_\" + myBasin + \"_\" + hurr_name + '.nc'\n",
        "  print(\"Processed file name:\\t{}\".format(data_path+hurr_file))\n",
        "  track_ds = xr.open_dataset(data_path + hurr_file)\n",
        "  print(\"Start and end days:\\n{} --> {}.\\n\".format(track_ds.time[0].values, track_ds.time[-1].values))\n",
        "  return track_ds"
      ],
      "metadata": {
        "id": "uh2QmSnVSlCQ"
      },
      "execution_count": null,
      "outputs": []
    },
    {
      "cell_type": "code",
      "source": [
        "# Lazily load CMEMS dataset\n",
        "def get_cmems_dataset(dsetID, vNames):\n",
        "  # Set parameters\n",
        "  data_request = {\"dataset_id\" : dsetID,\n",
        "                  \"longitude\" : [-180, 180],\n",
        "                  \"latitude\" : [-80, 90],\n",
        "                  \"variables\" : vNames}\n",
        "\n",
        "  # Open dataset\n",
        "  cmems_ds =copernicusmarine.open_dataset(dataset_id = data_request[\"dataset_id\"],\n",
        "    minimum_longitude = data_request[\"longitude\"][0],\n",
        "    maximum_longitude = data_request[\"longitude\"][1],\n",
        "    minimum_latitude = data_request[\"latitude\"][0],\n",
        "    maximum_latitude = data_request[\"latitude\"][1],\n",
        "    variables = data_request[\"variables\"])\n",
        "\n",
        "  return cmems_ds\n",
        "\n",
        "# Subset data along track\n",
        "def subset_dataset(cmems_ds, track_ds):\n",
        "  subset_ds=cmems_ds.sel(time=track_ds.time, latitude=track_ds.lat, longitude=track_ds.lon, method=\"nearest\")\n",
        "  return subset_ds"
      ],
      "metadata": {
        "id": "Kp1oOx_JeiiU"
      },
      "execution_count": null,
      "outputs": []
    },
    {
      "cell_type": "markdown",
      "source": [
        "### Set up API env"
      ],
      "metadata": {
        "id": "vTX6hnQRO_YK"
      }
    },
    {
      "cell_type": "code",
      "source": [
        "print(copernicusmarine.__version__)\n",
        "copernicusmarine.login(username=\"sakella\", password=\"HbFPyP9M\")"
      ],
      "metadata": {
        "collapsed": true,
        "id": "SoEsoVtOO9dr"
      },
      "execution_count": null,
      "outputs": []
    },
    {
      "cell_type": "markdown",
      "source": [
        "### Read the processed/downloaded hurricane data.\n",
        "- It was generated using [this notebook.](https://github.com/sanAkel/ocean-hurricane/blob/main/get_track.ipynb)\n",
        "- Or fetch on the fly- follow instructions in above notebook."
      ],
      "metadata": {
        "id": "0Vcx0gKqPNnm"
      }
    },
    {
      "cell_type": "code",
      "source": [
        "# Mount drive - to read/save files once done\n",
        "# If not using colab/google drive, comment following 2 lines.\n",
        "from google.colab import drive\n",
        "drive.mount('/content/drive')"
      ],
      "metadata": {
        "id": "zQUbIYQYHqCF"
      },
      "execution_count": null,
      "outputs": []
    },
    {
      "cell_type": "markdown",
      "source": [
        "### Sequence of steps:\n",
        "1. Read track data for the year/season.\n",
        "2. Download AVISO L4 and GLORYS12 data along the track (date and location)."
      ],
      "metadata": {
        "id": "oz-Ppau8_KF4"
      }
    },
    {
      "cell_type": "code",
      "source": [
        "# Read downloaded track data\n",
        "major_hurr_names, major_hurr_ids = get_hurr_season_data(data_path_root, year, myBasin, cat_threshold)\n",
        "\n",
        "print(\"\\n\\n{} {} storms that had a category >= {} are following:\\n\".format(myBasin, year, cat_threshold))\n",
        "for hurr in major_hurr_names:\n",
        "    print(hurr)\n",
        "\n",
        "# For each storm, fetch CMEMS data\n",
        "\n",
        "for idx, hurr_id in enumerate(major_hurr_ids):\n",
        "    print(\"\\n{}, ID: [{}]\".format(major_hurr_names.iloc[idx], hurr_id))\n",
        "    track_ds=get_hurr_data(data_path_root, year, myBasin, major_hurr_names.iloc[idx])\n",
        "\n",
        "    aviso_ds = get_cmems_dataset(dsetID_aviso, vNames_aviso)\n",
        "    aviso_track_ds=subset_dataset(aviso_ds, track_ds)\n",
        "\n",
        "    if year <= 2021:\n",
        "      glorys12_ds = get_cmems_dataset(dsetID_glorys12, vNames_glorys12)\n",
        "      glorys12_track_ds=subset_dataset(glorys12_ds, track_ds)\n",
        "    else:\n",
        "      glorys12_ds_surf = get_cmems_dataset(dsetID_glorys12_surf, vNames_glorys12_surf) # surface fields\n",
        "      glorys12_track_ds_surf=subset_dataset(glorys12_ds_surf, track_ds)\n",
        "\n",
        "      glorys12_ds_curr = get_cmems_dataset(dsetID_glorys12_curr, vNames_glorys12_curr) # currents\n",
        "      glorys12_track_ds_curr=subset_dataset(glorys12_ds_curr, track_ds)\n",
        "\n",
        "      glorys12_ds_thetao = get_cmems_dataset(dsetID_glorys12_thetao, vNames_glorys12_thetao) # potential temperature\n",
        "      glorys12_track_ds_thetao=subset_dataset(glorys12_ds_thetao, track_ds)\n",
        "\n",
        "      glorys12_ds_so = get_cmems_dataset(dsetID_glorys12_so, vNames_glorys12_so) # salinity\n",
        "      glorys12_track_ds_so=subset_dataset(glorys12_ds_so, track_ds)\n",
        "\n",
        "      # merge subset datasets\n",
        "      glorys12_track_ds = xr.merge([glorys12_track_ds_surf, glorys12_track_ds_curr, glorys12_track_ds_thetao, glorys12_track_ds_so])\n",
        "\n",
        "    # Save data\n",
        "    aviso_hurr_file = str(year) + \"_\" + myBasin + \"_\" + major_hurr_names.iloc[idx] + '_AVISO.nc'\n",
        "    glorys12_hurr_file = str(year) + \"_\" + myBasin + \"_\" + major_hurr_names.iloc[idx] + '_GLORYS12.nc'\n",
        "    print(\"Saving output files:\\nAVISO:\\t{}\\nGLORYS12:\\t{}\\n\".format(aviso_hurr_file, glorys12_hurr_file))\n",
        "    aviso_track_ds.to_netcdf(data_path_root+'/{}/'.format(year)+ aviso_hurr_file)\n",
        "    glorys12_track_ds.to_netcdf(data_path_root+'/{}/'.format(year)+ glorys12_hurr_file)"
      ],
      "metadata": {
        "id": "X5-MZS7WSsiL"
      },
      "execution_count": null,
      "outputs": []
    }
  ]
}